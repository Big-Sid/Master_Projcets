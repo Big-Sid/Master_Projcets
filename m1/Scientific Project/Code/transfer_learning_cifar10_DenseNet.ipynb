{
  "cells": [
    {
      "cell_type": "code",
      "execution_count": null,
      "metadata": {
        "colab": {
          "base_uri": "https://localhost:8080/"
        },
        "id": "8Ygifi2b_oyb",
        "outputId": "1f726ecb-8c01-47b4-f82b-ec1127b64778"
      },
      "outputs": [
        {
          "name": "stdout",
          "output_type": "stream",
          "text": [
            "TensorFlow 1.x selected.\n"
          ]
        }
      ],
      "source": [
        "%tensorflow_version 1.x"
      ]
    },
    {
      "cell_type": "code",
      "execution_count": 1,
      "metadata": {
        "id": "W9-YnlQ4BMQe"
      },
      "outputs": [],
      "source": [
        "import tensorflow.keras as K\n",
        "import tensorflow as tf"
      ]
    },
    {
      "cell_type": "code",
      "execution_count": 2,
      "metadata": {
        "id": "OvFHsITqBOvj"
      },
      "outputs": [],
      "source": [
        "def preprocess_data(X, Y):\n",
        "    \"\"\"\n",
        "    Pre-processes the data for the model\n",
        "\n",
        "        :param X: numpy.ndarray of shape (m, 32, 32, 3)\n",
        "            containing the CIFAR 10 data, where m is the\n",
        "            number of data points\n",
        "\n",
        "        :param Y: numpy.ndarray of shape (m,) containing\n",
        "            the CIFAR 10 labels for X\n",
        "\n",
        "        :returns: X_p, Y_p\n",
        "    \"\"\"\n",
        "    X_p = K.applications.densenet.preprocess_input(X)\n",
        "\n",
        "    # encode to one-hot\n",
        "    Y_p = K.utils.to_categorical(Y, 10)\n",
        "    return X_p, Y_p"
      ]
    },
    {
      "cell_type": "code",
      "execution_count": 3,
      "metadata": {
        "colab": {
          "base_uri": "https://localhost:8080/"
        },
        "id": "iEjde8xwBRRR",
        "outputId": "d0ed854d-0ab4-4b1e-97f1-31c04c4f277a"
      },
      "outputs": [
        {
          "output_type": "stream",
          "name": "stdout",
          "text": [
            "Downloading data from https://www.cs.toronto.edu/~kriz/cifar-10-python.tar.gz\n",
            "170500096/170498071 [==============================] - 4s 0us/step\n",
            "170508288/170498071 [==============================] - 4s 0us/step\n",
            "Downloading data from https://storage.googleapis.com/tensorflow/keras-applications/densenet/densenet121_weights_tf_dim_ordering_tf_kernels_notop.h5\n",
            "29089792/29084464 [==============================] - 0s 0us/step\n",
            "29097984/29084464 [==============================] - 0s 0us/step\n",
            "Epoch 1/20\n",
            "391/391 [==============================] - ETA: 0s - loss: 0.7796 - accuracy: 0.7514WARNING:tensorflow:Can save best model only with val_acc available, skipping.\n",
            "WARNING:tensorflow:Early stopping conditioned on metric `val_acc` which is not available. Available metrics are: loss,accuracy,val_loss,val_accuracy\n",
            "391/391 [==============================] - 185s 399ms/step - loss: 0.7796 - accuracy: 0.7514 - val_loss: 1.1418 - val_accuracy: 0.6798\n",
            "Epoch 2/20\n",
            "391/391 [==============================] - ETA: 0s - loss: 0.3730 - accuracy: 0.8868WARNING:tensorflow:Can save best model only with val_acc available, skipping.\n",
            "WARNING:tensorflow:Early stopping conditioned on metric `val_acc` which is not available. Available metrics are: loss,accuracy,val_loss,val_accuracy\n",
            "391/391 [==============================] - 152s 389ms/step - loss: 0.3730 - accuracy: 0.8868 - val_loss: 0.4903 - val_accuracy: 0.8454\n",
            "Epoch 3/20\n",
            "391/391 [==============================] - ETA: 0s - loss: 0.2808 - accuracy: 0.9139WARNING:tensorflow:Can save best model only with val_acc available, skipping.\n",
            "WARNING:tensorflow:Early stopping conditioned on metric `val_acc` which is not available. Available metrics are: loss,accuracy,val_loss,val_accuracy\n",
            "391/391 [==============================] - 154s 395ms/step - loss: 0.2808 - accuracy: 0.9139 - val_loss: 0.4934 - val_accuracy: 0.8502\n",
            "Epoch 4/20\n",
            "391/391 [==============================] - ETA: 0s - loss: 0.2287 - accuracy: 0.9306WARNING:tensorflow:Can save best model only with val_acc available, skipping.\n",
            "WARNING:tensorflow:Early stopping conditioned on metric `val_acc` which is not available. Available metrics are: loss,accuracy,val_loss,val_accuracy\n",
            "391/391 [==============================] - 154s 395ms/step - loss: 0.2287 - accuracy: 0.9306 - val_loss: 0.4316 - val_accuracy: 0.8661\n",
            "Epoch 5/20\n",
            "391/391 [==============================] - ETA: 0s - loss: 0.2030 - accuracy: 0.9377WARNING:tensorflow:Can save best model only with val_acc available, skipping.\n",
            "WARNING:tensorflow:Early stopping conditioned on metric `val_acc` which is not available. Available metrics are: loss,accuracy,val_loss,val_accuracy\n",
            "391/391 [==============================] - 154s 395ms/step - loss: 0.2030 - accuracy: 0.9377 - val_loss: 0.3310 - val_accuracy: 0.8969\n",
            "Epoch 6/20\n",
            "391/391 [==============================] - ETA: 0s - loss: 0.1736 - accuracy: 0.9469WARNING:tensorflow:Can save best model only with val_acc available, skipping.\n",
            "WARNING:tensorflow:Early stopping conditioned on metric `val_acc` which is not available. Available metrics are: loss,accuracy,val_loss,val_accuracy\n",
            "391/391 [==============================] - 154s 395ms/step - loss: 0.1736 - accuracy: 0.9469 - val_loss: 0.3564 - val_accuracy: 0.8930\n",
            "Epoch 7/20\n",
            "391/391 [==============================] - ETA: 0s - loss: 0.1473 - accuracy: 0.9539WARNING:tensorflow:Can save best model only with val_acc available, skipping.\n",
            "WARNING:tensorflow:Early stopping conditioned on metric `val_acc` which is not available. Available metrics are: loss,accuracy,val_loss,val_accuracy\n",
            "391/391 [==============================] - 154s 395ms/step - loss: 0.1473 - accuracy: 0.9539 - val_loss: 0.4154 - val_accuracy: 0.8771\n",
            "Epoch 8/20\n",
            "391/391 [==============================] - ETA: 0s - loss: 0.1389 - accuracy: 0.9577WARNING:tensorflow:Can save best model only with val_acc available, skipping.\n",
            "WARNING:tensorflow:Early stopping conditioned on metric `val_acc` which is not available. Available metrics are: loss,accuracy,val_loss,val_accuracy\n",
            "391/391 [==============================] - 154s 394ms/step - loss: 0.1389 - accuracy: 0.9577 - val_loss: 0.3141 - val_accuracy: 0.9082\n",
            "Epoch 9/20\n",
            "391/391 [==============================] - ETA: 0s - loss: 0.1224 - accuracy: 0.9629WARNING:tensorflow:Can save best model only with val_acc available, skipping.\n",
            "WARNING:tensorflow:Early stopping conditioned on metric `val_acc` which is not available. Available metrics are: loss,accuracy,val_loss,val_accuracy\n",
            "391/391 [==============================] - 155s 395ms/step - loss: 0.1224 - accuracy: 0.9629 - val_loss: 0.3817 - val_accuracy: 0.8944\n",
            "Epoch 10/20\n",
            "391/391 [==============================] - ETA: 0s - loss: 0.1121 - accuracy: 0.9656WARNING:tensorflow:Can save best model only with val_acc available, skipping.\n",
            "WARNING:tensorflow:Early stopping conditioned on metric `val_acc` which is not available. Available metrics are: loss,accuracy,val_loss,val_accuracy\n",
            "391/391 [==============================] - 152s 389ms/step - loss: 0.1121 - accuracy: 0.9656 - val_loss: 0.3117 - val_accuracy: 0.9107\n",
            "Epoch 11/20\n",
            "391/391 [==============================] - ETA: 0s - loss: 0.1074 - accuracy: 0.9660WARNING:tensorflow:Can save best model only with val_acc available, skipping.\n",
            "WARNING:tensorflow:Early stopping conditioned on metric `val_acc` which is not available. Available metrics are: loss,accuracy,val_loss,val_accuracy\n",
            "391/391 [==============================] - 155s 395ms/step - loss: 0.1074 - accuracy: 0.9660 - val_loss: 0.3312 - val_accuracy: 0.9098\n",
            "Epoch 12/20\n",
            "391/391 [==============================] - ETA: 0s - loss: 0.0894 - accuracy: 0.9720WARNING:tensorflow:Can save best model only with val_acc available, skipping.\n",
            "WARNING:tensorflow:Early stopping conditioned on metric `val_acc` which is not available. Available metrics are: loss,accuracy,val_loss,val_accuracy\n",
            "391/391 [==============================] - 155s 395ms/step - loss: 0.0894 - accuracy: 0.9720 - val_loss: 0.3306 - val_accuracy: 0.9109\n",
            "Epoch 13/20\n",
            "391/391 [==============================] - ETA: 0s - loss: 0.0894 - accuracy: 0.9727WARNING:tensorflow:Can save best model only with val_acc available, skipping.\n",
            "WARNING:tensorflow:Early stopping conditioned on metric `val_acc` which is not available. Available metrics are: loss,accuracy,val_loss,val_accuracy\n",
            "391/391 [==============================] - 155s 396ms/step - loss: 0.0894 - accuracy: 0.9727 - val_loss: 0.4568 - val_accuracy: 0.8876\n",
            "Epoch 14/20\n",
            "391/391 [==============================] - ETA: 0s - loss: 0.0791 - accuracy: 0.9757WARNING:tensorflow:Can save best model only with val_acc available, skipping.\n",
            "WARNING:tensorflow:Early stopping conditioned on metric `val_acc` which is not available. Available metrics are: loss,accuracy,val_loss,val_accuracy\n",
            "391/391 [==============================] - 152s 389ms/step - loss: 0.0791 - accuracy: 0.9757 - val_loss: 0.4089 - val_accuracy: 0.8914\n",
            "Epoch 15/20\n",
            "391/391 [==============================] - ETA: 0s - loss: 0.0809 - accuracy: 0.9757WARNING:tensorflow:Can save best model only with val_acc available, skipping.\n",
            "WARNING:tensorflow:Early stopping conditioned on metric `val_acc` which is not available. Available metrics are: loss,accuracy,val_loss,val_accuracy\n",
            "391/391 [==============================] - 155s 396ms/step - loss: 0.0809 - accuracy: 0.9757 - val_loss: 0.3276 - val_accuracy: 0.9099\n",
            "Epoch 16/20\n",
            "391/391 [==============================] - ETA: 0s - loss: 0.0713 - accuracy: 0.9783WARNING:tensorflow:Can save best model only with val_acc available, skipping.\n",
            "WARNING:tensorflow:Early stopping conditioned on metric `val_acc` which is not available. Available metrics are: loss,accuracy,val_loss,val_accuracy\n",
            "391/391 [==============================] - 154s 395ms/step - loss: 0.0713 - accuracy: 0.9783 - val_loss: 0.3980 - val_accuracy: 0.8982\n",
            "Epoch 17/20\n",
            "391/391 [==============================] - ETA: 0s - loss: 0.0714 - accuracy: 0.9782WARNING:tensorflow:Can save best model only with val_acc available, skipping.\n",
            "WARNING:tensorflow:Early stopping conditioned on metric `val_acc` which is not available. Available metrics are: loss,accuracy,val_loss,val_accuracy\n",
            "391/391 [==============================] - 154s 395ms/step - loss: 0.0714 - accuracy: 0.9782 - val_loss: 0.2898 - val_accuracy: 0.9220\n",
            "Epoch 18/20\n",
            "391/391 [==============================] - ETA: 0s - loss: 0.0585 - accuracy: 0.9817WARNING:tensorflow:Can save best model only with val_acc available, skipping.\n",
            "WARNING:tensorflow:Early stopping conditioned on metric `val_acc` which is not available. Available metrics are: loss,accuracy,val_loss,val_accuracy\n",
            "391/391 [==============================] - 154s 395ms/step - loss: 0.0585 - accuracy: 0.9817 - val_loss: 0.3479 - val_accuracy: 0.9081\n",
            "Epoch 19/20\n",
            "391/391 [==============================] - ETA: 0s - loss: 0.0618 - accuracy: 0.9808WARNING:tensorflow:Can save best model only with val_acc available, skipping.\n",
            "WARNING:tensorflow:Early stopping conditioned on metric `val_acc` which is not available. Available metrics are: loss,accuracy,val_loss,val_accuracy\n",
            "391/391 [==============================] - 154s 395ms/step - loss: 0.0618 - accuracy: 0.9808 - val_loss: 0.3281 - val_accuracy: 0.9153\n",
            "Epoch 20/20\n",
            "391/391 [==============================] - ETA: 0s - loss: 0.0573 - accuracy: 0.9824WARNING:tensorflow:Can save best model only with val_acc available, skipping.\n",
            "WARNING:tensorflow:Early stopping conditioned on metric `val_acc` which is not available. Available metrics are: loss,accuracy,val_loss,val_accuracy\n",
            "391/391 [==============================] - 154s 395ms/step - loss: 0.0573 - accuracy: 0.9824 - val_loss: 0.3262 - val_accuracy: 0.9184\n"
          ]
        },
        {
          "output_type": "execute_result",
          "data": {
            "text/plain": [
              "<keras.callbacks.History at 0x7f93d00aeb10>"
            ]
          },
          "metadata": {},
          "execution_count": 3
        }
      ],
      "source": [
        "CALLBACKS = []\n",
        "MODEL_PATH = 'cifar10.h5'\n",
        "optimizer = K.optimizers.Adam()\n",
        "\n",
        "# load cifar 10\n",
        "(x_train, y_train), (x_test, y_test) = K.datasets.cifar10.load_data()\n",
        "\n",
        "# pre-procces data\n",
        "x_train, y_train = preprocess_data(x_train, y_train)\n",
        "x_test, y_test = preprocess_data(x_test, y_test)\n",
        "\n",
        "# input tensor\n",
        "inputs = K.Input(shape=(32, 32, 3))\n",
        "\n",
        "# upscale layer\n",
        "upscale = K.layers.Lambda(lambda x: tf.image.resize_with_pad(x,\n",
        "                                                                  160,\n",
        "                                                                  160,\n",
        "                                                                  method=tf.image.ResizeMethod.BILINEAR))(inputs)\n",
        "\n",
        "# load base model\n",
        "base_model = K.applications.DenseNet121(include_top=False,\n",
        "                                        weights='imagenet',\n",
        "                                        input_tensor=upscale,\n",
        "                                        input_shape=(160,160,3),\n",
        "                                        pooling='max')\n",
        "\n",
        "\n",
        "\n",
        "# add top layers\n",
        "out = base_model.output\n",
        "out = K.layers.Flatten()(out)\n",
        "out = K.layers.BatchNormalization()(out)\n",
        "out = K.layers.Dense(256, activation='relu')(out)\n",
        "out = K.layers.Dropout(0.3)(out)\n",
        "out = K.layers.BatchNormalization()(out)\n",
        "out = K.layers.Dense(128, activation='relu')(out)\n",
        "out = K.layers.Dropout(0.3)(out)\n",
        "out = K.layers.BatchNormalization()(out)\n",
        "out = K.layers.Dense(64, activation='relu')(out)\n",
        "out = K.layers.Dropout(0.3)(out)\n",
        "out = K.layers.Dense(10, activation='softmax')(out)\n",
        "\n",
        "# callbacks\n",
        "CALLBACKS.append(K.callbacks.ModelCheckpoint(filepath=MODEL_PATH,\n",
        "                                              monitor='val_acc',\n",
        "                                              save_best_only=True))\n",
        "\n",
        "CALLBACKS.append(K.callbacks.EarlyStopping(monitor='val_acc',\n",
        "                                            verbose=1,\n",
        "                                            patience=5))\n",
        "\n",
        "CALLBACKS.append(K.callbacks.TensorBoard(log_dir='logs'))\n",
        "\n",
        "# model compile\n",
        "model = K.models.Model(inputs=inputs, outputs=out)\n",
        "\n",
        "model.compile(optimizer=optimizer,\n",
        "              loss='categorical_crossentropy',\n",
        "              metrics=['accuracy'])\n",
        "\n",
        "\n",
        "# train\n",
        "model.fit(x=x_train,\n",
        "          y=y_train,\n",
        "          batch_size=128,\n",
        "          epochs=20,\n",
        "          callbacks=CALLBACKS,\n",
        "          validation_data=(x_test, y_test))"
      ]
    },
    {
      "cell_type": "code",
      "execution_count": 4,
      "metadata": {
        "id": "ioqid9108ZZ3"
      },
      "outputs": [],
      "source": [
        "import numpy as np\n",
        "def plot_confusion_matrix(cm, classes, normalize, title):\n",
        "    \"\"\"\n",
        "    This function prints and plots the confusion matrix.\n",
        "    Normalization can be applied by setting `normalize=True`.\n",
        "    \"\"\"\n",
        "    if normalize:\n",
        "        cm = cm.astype('float') / cm.sum(axis=1)[:, np.newaxis]\n",
        "    plt.imshow(cm, interpolation='nearest', cmap=plt.cm.binary)\n",
        "    plt.colorbar()\n",
        "    tick_marks = np.arange(len(classes))\n",
        "    plt.xticks(tick_marks, classes, rotation=45)\n",
        "    plt.yticks(tick_marks, classes)\n",
        "    title_font = {'family': 'serif', 'color': 'black', 'weight': 'bold', 'size': 15}\n",
        "    label_font = {'family': 'serif', 'color': 'black', 'weight': 'normal', 'size': 10}\n",
        "    plt.title(title, fontdict=title_font)\n",
        "    plt.ylabel('True label',fontdict=label_font)\n",
        "    plt.xlabel('Predicted label',fontdict=label_font)\n",
        "    fmt = '.2f' if normalize else 'd'\n",
        "    thresh = cm.max() / 2.\n",
        "    for i, j in itertools.product(range(cm.shape[0]), range(cm.shape[1])):\n",
        "        plt.text(j, i, format(cm[i, j], fmt),\n",
        "                 horizontalalignment=\"center\",\n",
        "                 color=\"white\" if cm[i, j] > thresh else \"black\")\n",
        "    plt.tight_layout()"
      ]
    },
    {
      "cell_type": "code",
      "execution_count": 5,
      "metadata": {
        "colab": {
          "base_uri": "https://localhost:8080/"
        },
        "id": "qXBUJTdma236",
        "outputId": "11c7b41b-111c-45cd-a646-28429c262add"
      },
      "outputs": [
        {
          "output_type": "stream",
          "name": "stdout",
          "text": [
            "Confusion Matrix\n",
            " [[957   6   2   7   0   0   1   2  10  15]\n",
            " [  3 976   0   0   0   0   0   0   1  20]\n",
            " [ 52   5 823  48  11  29  22   4   4   2]\n",
            " [ 17   3   1 889   5  58  11   8   3   5]\n",
            " [ 19   3   9  50 872  28   7   7   4   1]\n",
            " [  1   2   4  83   4 894   4   6   0   2]\n",
            " [  9   4   5  20   2   7 951   0   0   2]\n",
            " [  6   0   1  16   7  30   0 937   0   3]\n",
            " [ 30  17   1  11   0   1   1   0 929  10]\n",
            " [  7  30   0   2   0   0   0   0   5 956]]\n"
          ]
        }
      ],
      "source": [
        "from sklearn.metrics import confusion_matrix  \n",
        "#### To analyze results, plot the confusion matrix using the following command\n",
        "#Predict the test results\n",
        "predict_x=model.predict(x_test) \n",
        "y_predict=np.argmax(predict_x,axis=1)\n",
        "y_test_labels = y_test.argmax(1)\n",
        "#confusion matrix and classification report\n",
        "print(\"Confusion Matrix\\n\",confusion_matrix(y_test_labels,y_predict))"
      ]
    },
    {
      "cell_type": "code",
      "source": [
        "# Compute confusion matrix\n",
        "import matplotlib.pyplot as plt\n",
        "import itertools   \n",
        "cnf_matrix = confusion_matrix(y_test_labels,y_predict)\n",
        "np.set_printoptions(precision=2)\n",
        "label_names = [\"airplane\", \"automobile\", \"bird\", \"cat\", \"deer\", \n",
        "                   \"dog\", \"frog\", \"horse\", \"ship\", \"truck\"]\n",
        "# Plot normalized confusion matrix\n",
        "plt.figure(figsize=(8,8))\n",
        "plot_confusion_matrix(cnf_matrix, classes=label_names, normalize=True, \n",
        "                      title='Confusion Matrix of Densenet121')"
      ],
      "metadata": {
        "colab": {
          "base_uri": "https://localhost:8080/",
          "height": 563
        },
        "id": "-3MTPCtmsLjO",
        "outputId": "a4dbee17-b066-4cbf-9c7f-4dc8d7a8a91e"
      },
      "execution_count": 6,
      "outputs": [
        {
          "output_type": "display_data",
          "data": {
            "text/plain": [
              "<Figure size 576x576 with 2 Axes>"
            ],
            "image/png": "[encoded data removed]"
          },
          "metadata": {
            "needs_background": "light"
          }
        }
      ]
    },
    {
      "cell_type": "code",
      "source": [
        "model.evaluate(x_test, y_test, batch_size=128, verbose=1)"
      ],
      "metadata": {
        "colab": {
          "base_uri": "https://localhost:8080/"
        },
        "id": "kfxucvVvsUW3",
        "outputId": "9967ffbc-5fbb-49d1-f945-956dadf0c2f2"
      },
      "execution_count": 7,
      "outputs": [
        {
          "output_type": "stream",
          "name": "stdout",
          "text": [
            "79/79 [==============================] - 8s 104ms/step - loss: 0.3262 - accuracy: 0.9184\n"
          ]
        },
        {
          "output_type": "execute_result",
          "data": {
            "text/plain": [
              "[0.3261576294898987, 0.91839998960495]"
            ]
          },
          "metadata": {},
          "execution_count": 7
        }
      ]
    },
    {
      "cell_type": "code",
      "source": [
        ""
      ],
      "metadata": {
        "id": "JJbMqhBtwrzd"
      },
      "execution_count": null,
      "outputs": []
    },
    {
      "cell_type": "code",
      "source": [
        ""
      ],
      "metadata": {
        "id": "iEJxF_axwr46"
      },
      "execution_count": null,
      "outputs": []
    },
    {
      "cell_type": "code",
      "source": [
        ""
      ],
      "metadata": {
        "id": "Rpthgp7Vwr7P"
      },
      "execution_count": null,
      "outputs": []
    }
  ],
  "metadata": {
    "accelerator": "GPU",
    "colab": {
      "name": "transfer_learning_cifar10_DenseNet.ipynb",
      "provenance": []
    },
    "kernelspec": {
      "display_name": "Python 3",
      "name": "python3"
    },
    "language_info": {
      "name": "python"
    }
  },
  "nbformat": 4,
  "nbformat_minor": 0
}