{
  "cells": [
    {
      "cell_type": "markdown",
      "metadata": {
        "id": "DzfJfOi8WRJp"
      },
      "source": [
        "# 📝 Pattern Recognition & Biometrics. Lab session 3.- Classification\n",
        "\n",
        "By Omar Galarraga & Sonia Garcia"
      ],
      "id": "DzfJfOi8WRJp"
    },
    {
      "cell_type": "markdown",
      "metadata": {
        "id": "EWDOsRaVWRJx"
      },
      "source": [
        "In this lab session, we will focus on a classification task with $N_c = 3$ classes. We would like to predict penguin species based on anatomical measures (adapted from INRIA [n/d]).  \n",
        "\n",
        "We will be using a part of the [Palmer penguins dataset](https://allisonhorst.github.io/palmerpenguins/)\n",
        "\n",
        "Each penguin in the database belongs to one of the three species of the Pygoscelis genre: Adelie, Gentoo and Chinstrap [see figure below].  \n",
        "\n",
        "![Figure 1. Image of penguins](https://github.com/allisonhorst/palmerpenguins/raw/master/man/figures/lter_penguins.png)\n",
        "\n",
        "The classification will be based on two features: bill/culmen length and depth [see figure below].\n",
        "\n",
        "![Figure 2. Image of culmen](https://github.com/allisonhorst/palmerpenguins/raw/master/man/figures/culmen_depth.png)"
      ],
      "id": "EWDOsRaVWRJx"
    },
    {
      "cell_type": "markdown",
      "metadata": {
        "id": "ot2tF6FsWRJ0"
      },
      "source": [
        "## Part I. Linear Classification: Naive Bayes Classifier\n",
        "\n",
        "Let's start by loading the data and doing some data exploration..."
      ],
      "id": "ot2tF6FsWRJ0"
    },
    {
      "cell_type": "code",
      "execution_count": 1,
      "metadata": {
        "colab": {
          "base_uri": "https://localhost:8080/",
          "height": 77,
          "resources": {
            "http://localhost:8080/nbextensions/google.colab/files.js": {
              "data": "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",
              "headers": [
                [
                  "content-type",
                  "application/javascript"
                ]
              ],
              "ok": true,
              "status": 200,
              "status_text": ""
            }
          }
        },
        "id": "3wRDkO5zWRJ3",
        "outputId": "17de918a-a072-46d0-d5a4-22a8bef31017"
      },
      "outputs": [
        {
          "output_type": "display_data",
          "data": {
            "text/plain": [
              "<IPython.core.display.HTML object>"
            ],
            "text/html": [
              "\n",
              "     <input type=\"file\" id=\"files-72fec3c1-5501-47d1-b06b-2c0b05f5c7e9\" name=\"files[]\" multiple disabled\n",
              "        style=\"border:none\" />\n",
              "     <output id=\"result-72fec3c1-5501-47d1-b06b-2c0b05f5c7e9\">\n",
              "      Upload widget is only available when the cell has been executed in the\n",
              "      current browser session. Please rerun this cell to enable.\n",
              "      </output>\n",
              "      <script src=\"/nbextensions/google.colab/files.js\"></script> "
            ]
          },
          "metadata": {}
        },
        {
          "output_type": "stream",
          "name": "stdout",
          "text": [
            "Saving penguins_classification.csv to penguins_classification.csv\n"
          ]
        }
      ],
      "source": [
        "import pandas\n",
        "\n",
        "##If using Google Colab\n",
        "from google.colab import files\n",
        "files.upload()\n",
        "PenguinData = pandas.read_csv(\"penguins_classification.csv\")\n",
        "\n",
        "#PenguinData = pandas.read_csv(\"./datasets/penguins_classification.csv\")\n",
        "#PenguinData[:]"
      ],
      "id": "3wRDkO5zWRJ3"
    },
    {
      "cell_type": "markdown",
      "metadata": {
        "id": "ma0pJiRGWRJ_"
      },
      "source": [
        "Let's look at the number of examples by species..."
      ],
      "id": "ma0pJiRGWRJ_"
    },
    {
      "cell_type": "code",
      "execution_count": 2,
      "metadata": {
        "colab": {
          "base_uri": "https://localhost:8080/"
        },
        "id": "I5wcNSeVWRKA",
        "outputId": "3dd7cf57-0af2-4dc8-caa5-880fa78e031f"
      },
      "outputs": [
        {
          "output_type": "execute_result",
          "data": {
            "text/plain": [
              "Adelie       151\n",
              "Gentoo       123\n",
              "Chinstrap     68\n",
              "Name: Species, dtype: int64"
            ]
          },
          "metadata": {},
          "execution_count": 2
        }
      ],
      "source": [
        "PenguinData[\"Species\"].value_counts()"
      ],
      "id": "I5wcNSeVWRKA"
    },
    {
      "cell_type": "markdown",
      "metadata": {
        "id": "Jta-ZsYaWRKC"
      },
      "source": [
        "* I.1) Compute the prior probability for each class"
      ],
      "id": "Jta-ZsYaWRKC"
    },
    {
      "cell_type": "code",
      "execution_count": 34,
      "metadata": {
        "collapsed": true,
        "id": "CRHCd08MWRKD",
        "colab": {
          "base_uri": "https://localhost:8080/"
        },
        "outputId": "77e710c8-4ef4-4a17-9f10-d6987b8911cb"
      },
      "outputs": [
        {
          "output_type": "execute_result",
          "data": {
            "text/plain": [
              "array([0.44152047, 0.35964912, 0.19883041])"
            ]
          },
          "metadata": {},
          "execution_count": 34
        }
      ],
      "source": [
        "#Write your code here\n",
        "import numpy as np\n",
        "P_A = 151/(151+123+68)\n",
        "P_G = 123/(151+123+68)\n",
        "P_C = 68/(151+123+68)\n",
        "pri =[P_A,P_G,P_C]\n",
        "prior = np.array(pri)\n",
        "#prior"
      ],
      "id": "CRHCd08MWRKD"
    },
    {
      "cell_type": "markdown",
      "metadata": {
        "id": "PfXQyRljWRKF"
      },
      "source": [
        "Let's look at the histrograms of the input variables..."
      ],
      "id": "PfXQyRljWRKF"
    },
    {
      "cell_type": "code",
      "execution_count": 4,
      "metadata": {
        "colab": {
          "base_uri": "https://localhost:8080/",
          "height": 281
        },
        "id": "xN8xttmXWRKH",
        "outputId": "a14f55d1-d5d7-4065-cfb2-b000e65d6b70"
      },
      "outputs": [
        {
          "output_type": "display_data",
          "data": {
            "text/plain": [
              "<Figure size 432x288 with 2 Axes>"
            ],
            "image/png": "[encoded data removed]"
          },
          "metadata": {
            "needs_background": "light"
          }
        }
      ],
      "source": [
        "#%matplotlib inline\n",
        "_ = PenguinData.hist()"
      ],
      "id": "xN8xttmXWRKH"
    },
    {
      "cell_type": "markdown",
      "metadata": {
        "id": "J1IbednbWRKI"
      },
      "source": [
        "Now look at the variable distributions per class.\n",
        "\n",
        "* I.2) Can we find a linear separator between classes?\n",
        "\n",
        "  A:  we can not fiind a linear separator to seprate the classes perfectly, but we can find a linear separator try to fit to classifiy "
      ],
      "id": "J1IbednbWRKI"
    },
    {
      "cell_type": "markdown",
      "metadata": {
        "id": "XI-0coAWXitm"
      },
      "source": [
        ""
      ],
      "id": "XI-0coAWXitm"
    },
    {
      "cell_type": "code",
      "execution_count": 5,
      "metadata": {
        "colab": {
          "base_uri": "https://localhost:8080/",
          "height": 498
        },
        "id": "SI7tyTgwWRKU",
        "outputId": "056fa094-1b31-4911-e8ad-38a4ce3064fa"
      },
      "outputs": [
        {
          "output_type": "display_data",
          "data": {
            "text/plain": [
              "<Figure size 720x504 with 6 Axes>"
            ],
            "image/png": "[encoded data removed]"
          },
          "metadata": {
            "needs_background": "light"
          }
        }
      ],
      "source": [
        "import seaborn as sns\n",
        "pairplot_figure = sns.pairplot(data = PenguinData, hue = \"Species\", diag_kind=\"hist\", markers = [\"o\", \"s\", \"D\"])\n",
        "pairplot_figure.fig.set_size_inches(10, 7)"
      ],
      "id": "SI7tyTgwWRKU"
    },
    {
      "cell_type": "markdown",
      "metadata": {
        "id": "ZCAXjms2WRKU"
      },
      "source": [
        "Redo the previous graph, but this time replace the histrograms by kernel estimations of the density probability function per class. \n",
        "* I.3) Can we classify with just one variable? \n",
        "      A:  Using just one variable can not classify perfectly, the error rate will high, for example, If the classification is based on culmen length, for adelie penguins can be divided into most, but for gentoo and chinstrap there will be a large error because their features overlap\n",
        "* I.4) Come up with a decision rule combining both features. (Hint: you can use a decision tree as an inspiration)\n",
        "      A:We can use the idea of decision tree to classify the features of these penguins, firstly, at around culmen length=36, the penguins are divided into two categories, adelie and gentoo, and then at around culmen depth=14, adelie and gentoo are classified, according to this method can classify part of them, but for the overlapping features it is difficult to classify"
      ],
      "id": "ZCAXjms2WRKU"
    },
    {
      "cell_type": "code",
      "execution_count": 6,
      "metadata": {
        "colab": {
          "base_uri": "https://localhost:8080/",
          "height": 498
        },
        "id": "8FREwfhfWRKV",
        "outputId": "2c4c4e3d-e735-45c8-c439-e76bcd8103fa"
      },
      "outputs": [
        {
          "output_type": "display_data",
          "data": {
            "text/plain": [
              "<Figure size 720x504 with 6 Axes>"
            ],
            "image/png": "[encoded data removed]"
          },
          "metadata": {
            "needs_background": "light"
          }
        }
      ],
      "source": [
        "import seaborn as sns\n",
        "pairplot_figure2 = sns.pairplot(data = PenguinData, hue = \"Species\", diag_kind=\"kde\", markers = [\"o\", \"s\", \"D\"])\n",
        "pairplot_figure2.fig.set_size_inches(10, 7)"
      ],
      "id": "8FREwfhfWRKV"
    },
    {
      "cell_type": "markdown",
      "metadata": {
        "id": "eCmuZqeuWRKW"
      },
      "source": [
        "* I.5) Create a naive Bayes classifier, train it with *data_train* and *target_train* defined below, for predicting the penguin species (Hint: give the label of the class that maximizes the probability $ P(c/x) $)"
      ],
      "id": "eCmuZqeuWRKW"
    },
    {
      "cell_type": "code",
      "execution_count": 37,
      "metadata": {
        "collapsed": true,
        "id": "bZCkckqSWRKW"
      },
      "outputs": [],
      "source": [
        "from sklearn.model_selection import train_test_split\n",
        "from sklearn.preprocessing import StandardScaler\n",
        "from sklearn.naive_bayes import GaussianNB\n",
        "\n",
        "\n",
        "X_train, X_test, y_train, y_test = train_test_split(PenguinData[['Culmen Length (mm)', 'Culmen Depth (mm)']], PenguinData[[\"Species\"]], test_size=0.3, shuffle=True, random_state=42)\n",
        "#mean = sum(x)/n * count(x)\n",
        "#standard deviation = sqrt((sum i to N (x_i – mean(x))^2) / N-1)\n",
        "\n",
        "#print(PenguinData.shape)\n",
        "#print(X_train.shape)\n",
        "#print(y_train.shape)\n",
        "#Write your code here"
      ],
      "id": "bZCkckqSWRKW"
    },
    {
      "cell_type": "code",
      "source": [
        "x=GaussianNB()\n",
        "x.fit(X_train,y_train)\n",
        "pre=x.predict(X_test)\n",
        "print(pre)"
      ],
      "metadata": {
        "colab": {
          "base_uri": "https://localhost:8080/"
        },
        "id": "pkIiXsNMsemB",
        "outputId": "1de0135d-49be-45d4-9ad0-ac993ef8a288"
      },
      "id": "pkIiXsNMsemB",
      "execution_count": 50,
      "outputs": [
        {
          "output_type": "stream",
          "name": "stdout",
          "text": [
            "['Gentoo' 'Adelie' 'Adelie' 'Chinstrap' 'Adelie' 'Chinstrap' 'Gentoo'\n",
            " 'Gentoo' 'Chinstrap' 'Adelie' 'Adelie' 'Gentoo' 'Chinstrap' 'Gentoo'\n",
            " 'Adelie' 'Gentoo' 'Adelie' 'Adelie' 'Gentoo' 'Adelie' 'Gentoo' 'Adelie'\n",
            " 'Chinstrap' 'Adelie' 'Adelie' 'Adelie' 'Adelie' 'Gentoo' 'Adelie'\n",
            " 'Chinstrap' 'Gentoo' 'Adelie' 'Adelie' 'Gentoo' 'Adelie' 'Adelie'\n",
            " 'Gentoo' 'Chinstrap' 'Chinstrap' 'Adelie' 'Adelie' 'Adelie' 'Gentoo'\n",
            " 'Gentoo' 'Adelie' 'Gentoo' 'Chinstrap' 'Gentoo' 'Adelie' 'Adelie'\n",
            " 'Gentoo' 'Gentoo' 'Gentoo' 'Adelie' 'Adelie' 'Gentoo' 'Adelie'\n",
            " 'Chinstrap' 'Chinstrap' 'Adelie' 'Gentoo' 'Chinstrap' 'Chinstrap'\n",
            " 'Gentoo' 'Gentoo' 'Chinstrap' 'Adelie' 'Adelie' 'Adelie' 'Adelie'\n",
            " 'Adelie' 'Adelie' 'Chinstrap' 'Adelie' 'Chinstrap' 'Adelie' 'Chinstrap'\n",
            " 'Gentoo' 'Chinstrap' 'Adelie' 'Adelie' 'Gentoo' 'Adelie' 'Chinstrap'\n",
            " 'Adelie' 'Adelie' 'Adelie' 'Chinstrap' 'Adelie' 'Gentoo' 'Gentoo'\n",
            " 'Chinstrap' 'Chinstrap' 'Gentoo' 'Gentoo' 'Gentoo' 'Adelie' 'Gentoo'\n",
            " 'Adelie' 'Gentoo' 'Chinstrap' 'Adelie' 'Gentoo']\n"
          ]
        }
      ]
    },
    {
      "cell_type": "markdown",
      "metadata": {
        "id": "5owrkGAKWRKX"
      },
      "source": [
        "* I.6) Predict for the examples in *data_test* and compare with the true labels in *target_test*. Compute the classifier's error rate."
      ],
      "id": "5owrkGAKWRKX"
    },
    {
      "cell_type": "code",
      "source": [
        "from sklearn.metrics import accuracy_score\n",
        "#print(accuracy_score(pre, y_test))\n",
        "acc=accuracy_score(pre, y_test)\n",
        "error = 1-acc\n",
        "error"
      ],
      "metadata": {
        "colab": {
          "base_uri": "https://localhost:8080/"
        },
        "id": "GbuOSdvfW9bm",
        "outputId": "7f1feeb7-4ad2-40cc-a935-2e1fd04a32ad"
      },
      "id": "GbuOSdvfW9bm",
      "execution_count": 54,
      "outputs": [
        {
          "output_type": "execute_result",
          "data": {
            "text/plain": [
              "0.058252427184465994"
            ]
          },
          "metadata": {},
          "execution_count": 54
        }
      ]
    },
    {
      "cell_type": "code",
      "source": [
        "print(pre)\n",
        "print(np.array(y_test))"
      ],
      "metadata": {
        "colab": {
          "base_uri": "https://localhost:8080/"
        },
        "id": "Sj0rDubjXjY5",
        "outputId": "669ad438-5628-4b4e-ad17-36a9246f5360"
      },
      "id": "Sj0rDubjXjY5",
      "execution_count": 55,
      "outputs": [
        {
          "output_type": "stream",
          "name": "stdout",
          "text": [
            "['Gentoo' 'Adelie' 'Adelie' 'Chinstrap' 'Adelie' 'Chinstrap' 'Gentoo'\n",
            " 'Gentoo' 'Chinstrap' 'Adelie' 'Adelie' 'Gentoo' 'Chinstrap' 'Gentoo'\n",
            " 'Adelie' 'Gentoo' 'Adelie' 'Adelie' 'Gentoo' 'Adelie' 'Gentoo' 'Adelie'\n",
            " 'Chinstrap' 'Adelie' 'Adelie' 'Adelie' 'Adelie' 'Gentoo' 'Adelie'\n",
            " 'Chinstrap' 'Gentoo' 'Adelie' 'Adelie' 'Gentoo' 'Adelie' 'Adelie'\n",
            " 'Gentoo' 'Chinstrap' 'Chinstrap' 'Adelie' 'Adelie' 'Adelie' 'Gentoo'\n",
            " 'Gentoo' 'Adelie' 'Gentoo' 'Chinstrap' 'Gentoo' 'Adelie' 'Adelie'\n",
            " 'Gentoo' 'Gentoo' 'Gentoo' 'Adelie' 'Adelie' 'Gentoo' 'Adelie'\n",
            " 'Chinstrap' 'Chinstrap' 'Adelie' 'Gentoo' 'Chinstrap' 'Chinstrap'\n",
            " 'Gentoo' 'Gentoo' 'Chinstrap' 'Adelie' 'Adelie' 'Adelie' 'Adelie'\n",
            " 'Adelie' 'Adelie' 'Chinstrap' 'Adelie' 'Chinstrap' 'Adelie' 'Chinstrap'\n",
            " 'Gentoo' 'Chinstrap' 'Adelie' 'Adelie' 'Gentoo' 'Adelie' 'Chinstrap'\n",
            " 'Adelie' 'Adelie' 'Adelie' 'Chinstrap' 'Adelie' 'Gentoo' 'Gentoo'\n",
            " 'Chinstrap' 'Chinstrap' 'Gentoo' 'Gentoo' 'Gentoo' 'Adelie' 'Gentoo'\n",
            " 'Adelie' 'Gentoo' 'Chinstrap' 'Adelie' 'Gentoo']\n",
            "['Gentoo' 'Adelie' 'Adelie' 'Adelie' 'Adelie' 'Chinstrap' 'Gentoo'\n",
            " 'Gentoo' 'Chinstrap' 'Adelie' 'Adelie' 'Gentoo' 'Chinstrap' 'Gentoo'\n",
            " 'Adelie' 'Gentoo' 'Adelie' 'Adelie' 'Gentoo' 'Adelie' 'Gentoo' 'Adelie'\n",
            " 'Chinstrap' 'Adelie' 'Adelie' 'Adelie' 'Adelie' 'Gentoo' 'Adelie'\n",
            " 'Chinstrap' 'Gentoo' 'Adelie' 'Adelie' 'Gentoo' 'Adelie' 'Adelie'\n",
            " 'Gentoo' 'Chinstrap' 'Adelie' 'Adelie' 'Adelie' 'Adelie' 'Gentoo'\n",
            " 'Gentoo' 'Adelie' 'Gentoo' 'Chinstrap' 'Gentoo' 'Adelie' 'Adelie'\n",
            " 'Gentoo' 'Gentoo' 'Gentoo' 'Adelie' 'Adelie' 'Gentoo' 'Adelie'\n",
            " 'Chinstrap' 'Chinstrap' 'Adelie' 'Gentoo' 'Chinstrap' 'Chinstrap'\n",
            " 'Gentoo' 'Gentoo' 'Adelie' 'Adelie' 'Adelie' 'Adelie' 'Adelie' 'Adelie'\n",
            " 'Adelie' 'Chinstrap' 'Chinstrap' 'Chinstrap' 'Adelie' 'Chinstrap'\n",
            " 'Gentoo' 'Chinstrap' 'Adelie' 'Adelie' 'Gentoo' 'Adelie' 'Chinstrap'\n",
            " 'Adelie' 'Adelie' 'Adelie' 'Chinstrap' 'Adelie' 'Gentoo' 'Gentoo'\n",
            " 'Chinstrap' 'Gentoo' 'Gentoo' 'Gentoo' 'Gentoo' 'Adelie' 'Gentoo'\n",
            " 'Adelie' 'Gentoo' 'Adelie' 'Adelie' 'Gentoo']\n"
          ]
        }
      ]
    },
    {
      "cell_type": "markdown",
      "metadata": {
        "id": "YPEmSwAAWRKY"
      },
      "source": [
        "* I.7) Compute the minimal error risk of the classifier (you can first find the thresholds analytically). Compare with the error rate computed previously."
      ],
      "id": "YPEmSwAAWRKY"
    },
    {
      "cell_type": "code",
      "execution_count": null,
      "metadata": {
        "collapsed": true,
        "id": "-oF34B1pWRKZ"
      },
      "outputs": [],
      "source": [
        "#Write your code here"
      ],
      "id": "-oF34B1pWRKZ"
    },
    {
      "cell_type": "markdown",
      "metadata": {
        "id": "HxRPx84AWRKZ"
      },
      "source": [
        "## Part II. Nonlinear classification with neural networks\n",
        "\n",
        "We will apply to the same classification problem a neural network based on the multilayer perceptron (MLP), also known as feedforward neural network.\n",
        "\n",
        "Let's begin with the data preprocessing stage. For all the input variables to equally contribute to the model,  it is crucial to normalize the data. \n",
        "In this case, we will center and reduce the inputs (substract the mean and divide by the standard deviation). \n",
        "\n",
        "On the other hand, we must convert the labels into quantitative variables to be able to insert them into the neural model. We will use in this case a binary vector encoding like the following:\n",
        "\n",
        "$$\n",
        "\\begin{array}{ccc}\n",
        "Adelie & \\rightarrow & \\left(1\\,0\\,0\\right)^T\\\\\n",
        "Gentoo & \\rightarrow & \\left(0\\,1\\,0\\right)^T\\\\\n",
        "Chinstrap & \\rightarrow & \\left(0\\,0\\,1\\right)^T\\\\\n",
        "\\end{array}\n",
        "$$"
      ],
      "id": "HxRPx84AWRKZ"
    },
    {
      "cell_type": "code",
      "execution_count": 9,
      "metadata": {
        "colab": {
          "base_uri": "https://localhost:8080/"
        },
        "id": "6DUG0ViJWRKa",
        "outputId": "80cf4503-b7bf-4399-e42e-02ea8ca9fcb1"
      },
      "outputs": [
        {
          "output_type": "stream",
          "name": "stdout",
          "text": [
            "Normalized input data\n",
            "   Var1  Var2  Var1 norm  Var2 norm\n",
            "0  39.1  18.7  -0.884499   0.785449\n",
            "1  39.5  17.4  -0.811126   0.126188\n",
            "2  40.3  18.0  -0.664380   0.430462\n",
            "3  36.7  19.3  -1.324737   1.089724\n",
            "4  39.3  20.6  -0.847812   1.748985\n",
            "5  38.9  17.8  -0.921185   0.329038\n",
            "6  39.2  19.6  -0.866155   1.241861\n",
            "7  34.1  18.1  -1.801661   0.481175\n",
            "8  42.0  20.2  -0.352544   1.546135\n",
            "9  37.8  17.1  -1.122961  -0.025949\n",
            "Target output\n",
            "     Adelie  Gentoo  Chinstrap\n",
            "0       1.0     0.0        0.0\n",
            "1       1.0     0.0        0.0\n",
            "2       1.0     0.0        0.0\n",
            "3       1.0     0.0        0.0\n",
            "4       1.0     0.0        0.0\n",
            "..      ...     ...        ...\n",
            "337     0.0     1.0        0.0\n",
            "338     0.0     1.0        0.0\n",
            "339     0.0     1.0        0.0\n",
            "340     0.0     1.0        0.0\n",
            "341     0.0     1.0        0.0\n",
            "\n",
            "[342 rows x 3 columns]\n"
          ]
        }
      ],
      "source": [
        "import numpy as np\n",
        "from sklearn.preprocessing import StandardScaler, OneHotEncoder\n",
        "\n",
        "input_preprocessor = StandardScaler()\n",
        "target_preprocessor = OneHotEncoder(sparse=False)\n",
        "\n",
        "data = input_preprocessor.fit_transform(PenguinData[['Culmen Length (mm)', 'Culmen Depth (mm)']])\n",
        "target = target_preprocessor.fit_transform(PenguinData[['Species']])\n",
        "\n",
        "normdf = pandas.DataFrame(np.concatenate((PenguinData[['Culmen Length (mm)', 'Culmen Depth (mm)']], data), axis=1), columns=['Var1', 'Var2', 'Var1 norm', 'Var2 norm'])\n",
        "print(\"Normalized input data\")\n",
        "print(normdf[:10])\n",
        "print(\"Target output\")\n",
        "print(pandas.DataFrame(target, columns=['Adelie', 'Gentoo', 'Chinstrap']))"
      ],
      "id": "6DUG0ViJWRKa"
    },
    {
      "cell_type": "markdown",
      "metadata": {
        "id": "CIQyWFE6s6RY"
      },
      "source": [
        "Now we create an MLP with $N_{hl} = 1$ hidden layer containing $m=2$ neurons. \n",
        "\n",
        "* II.1) What is the size of the *input layer*?\n",
        "      A： 2\n",
        "* II.2) What is the size of the *output layer*?\n",
        "      A: 3\n"
      ],
      "id": "CIQyWFE6s6RY"
    },
    {
      "cell_type": "code",
      "execution_count": 10,
      "metadata": {
        "colab": {
          "base_uri": "https://localhost:8080/",
          "height": 92
        },
        "collapsed": true,
        "id": "ymo2AiogWRKa",
        "outputId": "ff6ede7f-0226-459c-c36d-a559d1d209aa"
      },
      "outputs": [
        {
          "output_type": "execute_result",
          "data": {
            "text/plain": [
              "MLPClassifier(activation='logistic', hidden_layer_sizes=(2,), max_iter=500,\n",
              "              solver='lbfgs')"
            ],
            "text/html": [
              "<style>#sk-0749a422-471c-45a7-957b-8e1ac1c15481 {color: black;background-color: white;}#sk-0749a422-471c-45a7-957b-8e1ac1c15481 pre{padding: 0;}#sk-0749a422-471c-45a7-957b-8e1ac1c15481 div.sk-toggleable {background-color: white;}#sk-0749a422-471c-45a7-957b-8e1ac1c15481 label.sk-toggleable__label {cursor: pointer;display: block;width: 100%;margin-bottom: 0;padding: 0.3em;box-sizing: border-box;text-align: center;}#sk-0749a422-471c-45a7-957b-8e1ac1c15481 label.sk-toggleable__label-arrow:before {content: \"▸\";float: left;margin-right: 0.25em;color: #696969;}#sk-0749a422-471c-45a7-957b-8e1ac1c15481 label.sk-toggleable__label-arrow:hover:before {color: black;}#sk-0749a422-471c-45a7-957b-8e1ac1c15481 div.sk-estimator:hover label.sk-toggleable__label-arrow:before {color: black;}#sk-0749a422-471c-45a7-957b-8e1ac1c15481 div.sk-toggleable__content {max-height: 0;max-width: 0;overflow: hidden;text-align: left;background-color: #f0f8ff;}#sk-0749a422-471c-45a7-957b-8e1ac1c15481 div.sk-toggleable__content pre {margin: 0.2em;color: black;border-radius: 0.25em;background-color: #f0f8ff;}#sk-0749a422-471c-45a7-957b-8e1ac1c15481 input.sk-toggleable__control:checked~div.sk-toggleable__content {max-height: 200px;max-width: 100%;overflow: auto;}#sk-0749a422-471c-45a7-957b-8e1ac1c15481 input.sk-toggleable__control:checked~label.sk-toggleable__label-arrow:before {content: \"▾\";}#sk-0749a422-471c-45a7-957b-8e1ac1c15481 div.sk-estimator input.sk-toggleable__control:checked~label.sk-toggleable__label {background-color: #d4ebff;}#sk-0749a422-471c-45a7-957b-8e1ac1c15481 div.sk-label input.sk-toggleable__control:checked~label.sk-toggleable__label {background-color: #d4ebff;}#sk-0749a422-471c-45a7-957b-8e1ac1c15481 input.sk-hidden--visually {border: 0;clip: rect(1px 1px 1px 1px);clip: rect(1px, 1px, 1px, 1px);height: 1px;margin: -1px;overflow: hidden;padding: 0;position: absolute;width: 1px;}#sk-0749a422-471c-45a7-957b-8e1ac1c15481 div.sk-estimator {font-family: monospace;background-color: #f0f8ff;border: 1px dotted black;border-radius: 0.25em;box-sizing: border-box;margin-bottom: 0.5em;}#sk-0749a422-471c-45a7-957b-8e1ac1c15481 div.sk-estimator:hover {background-color: #d4ebff;}#sk-0749a422-471c-45a7-957b-8e1ac1c15481 div.sk-parallel-item::after {content: \"\";width: 100%;border-bottom: 1px solid gray;flex-grow: 1;}#sk-0749a422-471c-45a7-957b-8e1ac1c15481 div.sk-label:hover label.sk-toggleable__label {background-color: #d4ebff;}#sk-0749a422-471c-45a7-957b-8e1ac1c15481 div.sk-serial::before {content: \"\";position: absolute;border-left: 1px solid gray;box-sizing: border-box;top: 2em;bottom: 0;left: 50%;}#sk-0749a422-471c-45a7-957b-8e1ac1c15481 div.sk-serial {display: flex;flex-direction: column;align-items: center;background-color: white;padding-right: 0.2em;padding-left: 0.2em;}#sk-0749a422-471c-45a7-957b-8e1ac1c15481 div.sk-item {z-index: 1;}#sk-0749a422-471c-45a7-957b-8e1ac1c15481 div.sk-parallel {display: flex;align-items: stretch;justify-content: center;background-color: white;}#sk-0749a422-471c-45a7-957b-8e1ac1c15481 div.sk-parallel::before {content: \"\";position: absolute;border-left: 1px solid gray;box-sizing: border-box;top: 2em;bottom: 0;left: 50%;}#sk-0749a422-471c-45a7-957b-8e1ac1c15481 div.sk-parallel-item {display: flex;flex-direction: column;position: relative;background-color: white;}#sk-0749a422-471c-45a7-957b-8e1ac1c15481 div.sk-parallel-item:first-child::after {align-self: flex-end;width: 50%;}#sk-0749a422-471c-45a7-957b-8e1ac1c15481 div.sk-parallel-item:last-child::after {align-self: flex-start;width: 50%;}#sk-0749a422-471c-45a7-957b-8e1ac1c15481 div.sk-parallel-item:only-child::after {width: 0;}#sk-0749a422-471c-45a7-957b-8e1ac1c15481 div.sk-dashed-wrapped {border: 1px dashed gray;margin: 0 0.4em 0.5em 0.4em;box-sizing: border-box;padding-bottom: 0.4em;background-color: white;position: relative;}#sk-0749a422-471c-45a7-957b-8e1ac1c15481 div.sk-label label {font-family: monospace;font-weight: bold;background-color: white;display: inline-block;line-height: 1.2em;}#sk-0749a422-471c-45a7-957b-8e1ac1c15481 div.sk-label-container {position: relative;z-index: 2;text-align: center;}#sk-0749a422-471c-45a7-957b-8e1ac1c15481 div.sk-container {/* jupyter's `normalize.less` sets `[hidden] { display: none; }` but bootstrap.min.css set `[hidden] { display: none !important; }` so we also need the `!important` here to be able to override the default hidden behavior on the sphinx rendered scikit-learn.org. See: https://github.com/scikit-learn/scikit-learn/issues/21755 */display: inline-block !important;position: relative;}#sk-0749a422-471c-45a7-957b-8e1ac1c15481 div.sk-text-repr-fallback {display: none;}</style><div id=\"sk-0749a422-471c-45a7-957b-8e1ac1c15481\" class=\"sk-top-container\"><div class=\"sk-text-repr-fallback\"><pre>MLPClassifier(activation=&#x27;logistic&#x27;, hidden_layer_sizes=(2,), max_iter=500,\n",
              "              solver=&#x27;lbfgs&#x27;)</pre><b>Please rerun this cell to show the HTML repr or trust the notebook.</b></div><div class=\"sk-container\" hidden><div class=\"sk-item\"><div class=\"sk-estimator sk-toggleable\"><input class=\"sk-toggleable__control sk-hidden--visually\" id=\"1ccd22aa-b7a3-4240-86c8-e7eb386382e3\" type=\"checkbox\" checked><label for=\"1ccd22aa-b7a3-4240-86c8-e7eb386382e3\" class=\"sk-toggleable__label sk-toggleable__label-arrow\">MLPClassifier</label><div class=\"sk-toggleable__content\"><pre>MLPClassifier(activation=&#x27;logistic&#x27;, hidden_layer_sizes=(2,), max_iter=500,\n",
              "              solver=&#x27;lbfgs&#x27;)</pre></div></div></div></div></div>"
            ]
          },
          "metadata": {},
          "execution_count": 10
        }
      ],
      "source": [
        "from sklearn.neural_network import MLPClassifier\n",
        "from sklearn import set_config\n",
        "m = 2\n",
        "mlpmodel = MLPClassifier(hidden_layer_sizes=(m, ), activation=\"logistic\", solver=\"lbfgs\", max_iter=500)\n",
        "set_config(display='diagram')\n",
        "mlpmodel"
      ],
      "id": "ymo2AiogWRKa"
    },
    {
      "cell_type": "markdown",
      "metadata": {
        "id": "wTRMcP1KvQfD"
      },
      "source": [
        "In order to train the MLP and test its generalization capacity, we need to:\n",
        "\n",
        "* a) After shuffling the order of observations, separate the data into a train subset (here $70\\%$) and a test subset (we'll use $30\\%$ here)\n",
        "* b) Train the model using only the train set \n",
        "* c) Then predict for the test set  "
      ],
      "id": "wTRMcP1KvQfD"
    },
    {
      "cell_type": "code",
      "execution_count": 11,
      "metadata": {
        "colab": {
          "base_uri": "https://localhost:8080/",
          "height": 363
        },
        "id": "Fxv8e690u8mT",
        "outputId": "c89a1c74-85ad-45b9-ac7d-01855f537cb6"
      },
      "outputs": [
        {
          "output_type": "execute_result",
          "data": {
            "text/plain": [
              "   Predicted label True label\n",
              "65       Chinstrap     Adelie\n",
              "66          Adelie     Adelie\n",
              "67          Adelie     Adelie\n",
              "68          Adelie     Adelie\n",
              "69          Adelie     Adelie\n",
              "70          Adelie     Adelie\n",
              "71          Adelie     Adelie\n",
              "72       Chinstrap  Chinstrap\n",
              "73          Adelie  Chinstrap\n",
              "74       Chinstrap  Chinstrap"
            ],
            "text/html": [
              "\n",
              "  <div id=\"df-a41b2a73-0611-4308-86b7-e41b062ac284\">\n",
              "    <div class=\"colab-df-container\">\n",
              "      <div>\n",
              "<style scoped>\n",
              "    .dataframe tbody tr th:only-of-type {\n",
              "        vertical-align: middle;\n",
              "    }\n",
              "\n",
              "    .dataframe tbody tr th {\n",
              "        vertical-align: top;\n",
              "    }\n",
              "\n",
              "    .dataframe thead th {\n",
              "        text-align: right;\n",
              "    }\n",
              "</style>\n",
              "<table border=\"1\" class=\"dataframe\">\n",
              "  <thead>\n",
              "    <tr style=\"text-align: right;\">\n",
              "      <th></th>\n",
              "      <th>Predicted label</th>\n",
              "      <th>True label</th>\n",
              "    </tr>\n",
              "  </thead>\n",
              "  <tbody>\n",
              "    <tr>\n",
              "      <th>65</th>\n",
              "      <td>Chinstrap</td>\n",
              "      <td>Adelie</td>\n",
              "    </tr>\n",
              "    <tr>\n",
              "      <th>66</th>\n",
              "      <td>Adelie</td>\n",
              "      <td>Adelie</td>\n",
              "    </tr>\n",
              "    <tr>\n",
              "      <th>67</th>\n",
              "      <td>Adelie</td>\n",
              "      <td>Adelie</td>\n",
              "    </tr>\n",
              "    <tr>\n",
              "      <th>68</th>\n",
              "      <td>Adelie</td>\n",
              "      <td>Adelie</td>\n",
              "    </tr>\n",
              "    <tr>\n",
              "      <th>69</th>\n",
              "      <td>Adelie</td>\n",
              "      <td>Adelie</td>\n",
              "    </tr>\n",
              "    <tr>\n",
              "      <th>70</th>\n",
              "      <td>Adelie</td>\n",
              "      <td>Adelie</td>\n",
              "    </tr>\n",
              "    <tr>\n",
              "      <th>71</th>\n",
              "      <td>Adelie</td>\n",
              "      <td>Adelie</td>\n",
              "    </tr>\n",
              "    <tr>\n",
              "      <th>72</th>\n",
              "      <td>Chinstrap</td>\n",
              "      <td>Chinstrap</td>\n",
              "    </tr>\n",
              "    <tr>\n",
              "      <th>73</th>\n",
              "      <td>Adelie</td>\n",
              "      <td>Chinstrap</td>\n",
              "    </tr>\n",
              "    <tr>\n",
              "      <th>74</th>\n",
              "      <td>Chinstrap</td>\n",
              "      <td>Chinstrap</td>\n",
              "    </tr>\n",
              "  </tbody>\n",
              "</table>\n",
              "</div>\n",
              "      <button class=\"colab-df-convert\" onclick=\"convertToInteractive('df-a41b2a73-0611-4308-86b7-e41b062ac284')\"\n",
              "              title=\"Convert this dataframe to an interactive table.\"\n",
              "              style=\"display:none;\">\n",
              "        \n",
              "  <svg xmlns=\"http://www.w3.org/2000/svg\" height=\"24px\"viewBox=\"0 0 24 24\"\n",
              "       width=\"24px\">\n",
              "    <path d=\"M0 0h24v24H0V0z\" fill=\"none\"/>\n",
              "    <path d=\"M18.56 5.44l.94 2.06.94-2.06 2.06-.94-2.06-.94-.94-2.06-.94 2.06-2.06.94zm-11 1L8.5 8.5l.94-2.06 2.06-.94-2.06-.94L8.5 2.5l-.94 2.06-2.06.94zm10 10l.94 2.06.94-2.06 2.06-.94-2.06-.94-.94-2.06-.94 2.06-2.06.94z\"/><path d=\"M17.41 7.96l-1.37-1.37c-.4-.4-.92-.59-1.43-.59-.52 0-1.04.2-1.43.59L10.3 9.45l-7.72 7.72c-.78.78-.78 2.05 0 2.83L4 21.41c.39.39.9.59 1.41.59.51 0 1.02-.2 1.41-.59l7.78-7.78 2.81-2.81c.8-.78.8-2.07 0-2.86zM5.41 20L4 18.59l7.72-7.72 1.47 1.35L5.41 20z\"/>\n",
              "  </svg>\n",
              "      </button>\n",
              "      \n",
              "  <style>\n",
              "    .colab-df-container {\n",
              "      display:flex;\n",
              "      flex-wrap:wrap;\n",
              "      gap: 12px;\n",
              "    }\n",
              "\n",
              "    .colab-df-convert {\n",
              "      background-color: #E8F0FE;\n",
              "      border: none;\n",
              "      border-radius: 50%;\n",
              "      cursor: pointer;\n",
              "      display: none;\n",
              "      fill: #1967D2;\n",
              "      height: 32px;\n",
              "      padding: 0 0 0 0;\n",
              "      width: 32px;\n",
              "    }\n",
              "\n",
              "    .colab-df-convert:hover {\n",
              "      background-color: #E2EBFA;\n",
              "      box-shadow: 0px 1px 2px rgba(60, 64, 67, 0.3), 0px 1px 3px 1px rgba(60, 64, 67, 0.15);\n",
              "      fill: #174EA6;\n",
              "    }\n",
              "\n",
              "    [theme=dark] .colab-df-convert {\n",
              "      background-color: #3B4455;\n",
              "      fill: #D2E3FC;\n",
              "    }\n",
              "\n",
              "    [theme=dark] .colab-df-convert:hover {\n",
              "      background-color: #434B5C;\n",
              "      box-shadow: 0px 1px 3px 1px rgba(0, 0, 0, 0.15);\n",
              "      filter: drop-shadow(0px 1px 2px rgba(0, 0, 0, 0.3));\n",
              "      fill: #FFFFFF;\n",
              "    }\n",
              "  </style>\n",
              "\n",
              "      <script>\n",
              "        const buttonEl =\n",
              "          document.querySelector('#df-a41b2a73-0611-4308-86b7-e41b062ac284 button.colab-df-convert');\n",
              "        buttonEl.style.display =\n",
              "          google.colab.kernel.accessAllowed ? 'block' : 'none';\n",
              "\n",
              "        async function convertToInteractive(key) {\n",
              "          const element = document.querySelector('#df-a41b2a73-0611-4308-86b7-e41b062ac284');\n",
              "          const dataTable =\n",
              "            await google.colab.kernel.invokeFunction('convertToInteractive',\n",
              "                                                     [key], {});\n",
              "          if (!dataTable) return;\n",
              "\n",
              "          const docLinkHtml = 'Like what you see? Visit the ' +\n",
              "            '<a target=\"_blank\" href=https://colab.research.google.com/notebooks/data_table.ipynb>data table notebook</a>'\n",
              "            + ' to learn more about interactive tables.';\n",
              "          element.innerHTML = '';\n",
              "          dataTable['output_type'] = 'display_data';\n",
              "          await google.colab.output.renderOutput(dataTable, element);\n",
              "          const docLink = document.createElement('div');\n",
              "          docLink.innerHTML = docLinkHtml;\n",
              "          element.appendChild(docLink);\n",
              "        }\n",
              "      </script>\n",
              "    </div>\n",
              "  </div>\n",
              "  "
            ]
          },
          "metadata": {},
          "execution_count": 11
        }
      ],
      "source": [
        "X_train, X_test, y_train, y_test = train_test_split(data, target, test_size=0.3, shuffle=True, random_state=42)\n",
        "\n",
        "#Training\n",
        "mlpmodel.fit(X_train, y_train)\n",
        "\n",
        "\n",
        "pred_tr = mlpmodel.predict(X_train)\n",
        "pred_tr_label = target_preprocessor.inverse_transform(pred_tr) #Decoding the binary vectors\n",
        "train_label = target_preprocessor.inverse_transform(y_train)\n",
        "\n",
        "#Test\n",
        "pred_test = mlpmodel.predict(X_test)\n",
        "#print(pred_test)\n",
        "pred_test_label = target_preprocessor.inverse_transform(pred_test)\n",
        "test_label = target_preprocessor.inverse_transform(y_test)\n",
        "table_test = pandas.DataFrame(np.concatenate((pred_test_label,test_label), axis=1), columns=['Predicted label', 'True label'])\n",
        "table_test[65:75]"
      ],
      "id": "Fxv8e690u8mT"
    },
    {
      "cell_type": "code",
      "source": [
        "from sklearn.metrics import accuracy_score\n",
        "print(accuracy_score(pred_tr, y_train))\n",
        "print(accuracy_score(pred_test, y_test))"
      ],
      "metadata": {
        "colab": {
          "base_uri": "https://localhost:8080/"
        },
        "id": "OB3Stjahcltv",
        "outputId": "9a1b8dde-0929-49fc-a4b5-70ff7a474254"
      },
      "id": "OB3Stjahcltv",
      "execution_count": 12,
      "outputs": [
        {
          "output_type": "stream",
          "name": "stdout",
          "text": [
            "0.9665271966527197\n",
            "0.9805825242718447\n"
          ]
        }
      ]
    },
    {
      "cell_type": "markdown",
      "metadata": {
        "id": "s1lyTn2yzTuS"
      },
      "source": [
        "* II.3) How many classification errors do you find in the table above?\n",
        "        We can find 2 classification errors above\n",
        "\n",
        "Computing the model performance:"
      ],
      "id": "s1lyTn2yzTuS"
    },
    {
      "cell_type": "code",
      "execution_count": 13,
      "metadata": {
        "colab": {
          "base_uri": "https://localhost:8080/"
        },
        "id": "sR9UyC7fxDlE",
        "outputId": "fd679fcd-4522-4809-df68-185bce815630"
      },
      "outputs": [
        {
          "output_type": "stream",
          "name": "stdout",
          "text": [
            "The training accuracy is 0.9707\n",
            "The testing accuracy is 0.9806\n"
          ]
        }
      ],
      "source": [
        "#Performance training\n",
        "acc_tr = (pred_tr_label == train_label).mean()\n",
        "#Performance test\n",
        "acc_test = (pred_test_label == test_label).mean()\n",
        "print(f\"The training accuracy is {acc_tr:.4f}\")\n",
        "print(f\"The testing accuracy is {acc_test:.4f}\")"
      ],
      "id": "sR9UyC7fxDlE"
    },
    {
      "cell_type": "markdown",
      "metadata": {
        "id": "-9JXzvTEn4Hi"
      },
      "source": [
        "* II.4) Compute the confusion matrix (for the test set). Which are the best and the worst predicted classes?\n",
        "\n",
        "  A: From the confusion matrix, we can see the best is Chinstrap(the first class) , for Adelie and Gentoo, they have 1 error respectively."
      ],
      "id": "-9JXzvTEn4Hi"
    },
    {
      "cell_type": "code",
      "execution_count": 14,
      "metadata": {
        "colab": {
          "base_uri": "https://localhost:8080/"
        },
        "id": "BIdRgbyEqVLA",
        "outputId": "766b9014-0193-4683-e413-e9a5e167df74"
      },
      "outputs": [
        {
          "output_type": "stream",
          "name": "stdout",
          "text": [
            "Confusion Matrix\n",
            " [[49  1  0]\n",
            " [ 1 18  0]\n",
            " [ 0  0 34]]\n"
          ]
        }
      ],
      "source": [
        "from sklearn.metrics import confusion_matrix  \n",
        "print(\"Confusion Matrix\\n\",confusion_matrix(pred_test_label,test_label))"
      ],
      "id": "BIdRgbyEqVLA"
    },
    {
      "cell_type": "markdown",
      "metadata": {
        "id": "fMh-xHjN00xZ"
      },
      "source": [
        "We just measured the model performance with a unique test set. We must use cross-validation to properly estimate the generalization of the model.\n",
        "\n",
        "* II.5) Perform a  K-fold cross-validation with $K=10$ (use *data_shuffle* and *target_shuffle* defined below). Compute the mean and the standard deviation of the accuracy on both train and test sets."
      ],
      "id": "fMh-xHjN00xZ"
    },
    {
      "cell_type": "code",
      "execution_count": 15,
      "metadata": {
        "id": "-UEhG9L5y5fV"
      },
      "outputs": [],
      "source": [
        "import numpy\n",
        "from sklearn.model_selection import cross_validate\n",
        "data_shuffle1, data_shuffle2, target_shuffle1, target_shuffle2 = train_test_split(data, target, train_size=341, shuffle=True, random_state=0)\n",
        "data_shuffle = numpy.concatenate((data_shuffle1, data_shuffle2), axis=0)\n",
        "target_shuffle = numpy.concatenate((target_shuffle1, target_shuffle2), axis=0)\n",
        "mlpmodel_1 = MLPClassifier(hidden_layer_sizes=(m, ), activation=\"logistic\", solver=\"lbfgs\", max_iter=500)\n",
        "mlpmodel_2 = MLPClassifier(hidden_layer_sizes=(m, ), activation=\"logistic\", solver=\"lbfgs\", max_iter=500)\n",
        "#Write your code here"
      ],
      "id": "-UEhG9L5y5fV"
    },
    {
      "cell_type": "code",
      "source": [
        "def cross_validation(model, _X, _y, _cv=10):\n",
        "  _scoring = ['accuracy']\n",
        "  results = cross_validate(estimator=model,\n",
        "                               X=_X,\n",
        "                               y=_y,\n",
        "                               cv=_cv,\n",
        "                               scoring=_scoring,\n",
        "                               return_train_score=True)\n",
        "  return {\"Accuracy on train sets scores\": results['train_accuracy'],\n",
        "          \"Mean of training Accuracy scores\": results['train_accuracy'].mean(),\n",
        "          \"Standard deviation of training Accuracy scores\": results['train_accuracy'].std()\n",
        "  }\n",
        "mlpmodel_1.fit(data_shuffle, target_shuffle) \n",
        "result_train = cross_validation(mlpmodel_1,data_shuffle,target_shuffle)\n",
        "print(result_train)\n"
      ],
      "metadata": {
        "colab": {
          "base_uri": "https://localhost:8080/"
        },
        "id": "LDKNlFbL-IYo",
        "outputId": "4fc73dfe-0522-4181-ebb2-39d052e20eb8"
      },
      "id": "LDKNlFbL-IYo",
      "execution_count": 16,
      "outputs": [
        {
          "output_type": "stream",
          "name": "stdout",
          "text": [
            "{'Accuracy on train sets scores': array([0.96742671, 0.96091205, 0.96103896, 0.97727273, 0.96103896,\n",
            "       0.97077922, 0.97402597, 0.96103896, 0.96753247, 0.97402597]), 'Mean of training Accuracy scores': 0.967509200896823, 'Standard deviation of training Accuracy scores': 0.00600064888908368}\n"
          ]
        }
      ]
    },
    {
      "cell_type": "code",
      "source": [
        "def cross_validation_test(model, _X, _y, _cv=10):\n",
        "  _scoring = ['accuracy']\n",
        "  results = cross_validate(estimator=model,\n",
        "                               X=_X,\n",
        "                               y=_y,\n",
        "                               cv=_cv,\n",
        "                               scoring=_scoring,\n",
        "                               return_train_score=True)\n",
        "  return {\"Accuracy on test sets scores\": results['test_accuracy'],\n",
        "          \"Mean of test Accuracy scores\": results['test_accuracy'].mean(),\n",
        "          \"Standard deviation of test Accuracy scores\": results['test_accuracy'].std()\n",
        "  }\n",
        "mlpmodel_2.fit(data_shuffle, target_shuffle) \n",
        "result_test = cross_validation_test(mlpmodel_2,data_shuffle,target_shuffle)\n",
        "print(result_test)\n"
      ],
      "metadata": {
        "colab": {
          "base_uri": "https://localhost:8080/"
        },
        "id": "0Eg4Dtt6wFhs",
        "outputId": "98619bcc-67cc-4b78-9150-d7ffd72909c2"
      },
      "id": "0Eg4Dtt6wFhs",
      "execution_count": 17,
      "outputs": [
        {
          "output_type": "stream",
          "name": "stdout",
          "text": [
            "{'Accuracy on test sets scores': array([0.97142857, 1.        , 1.        , 0.91176471, 0.94117647,\n",
            "       0.97058824, 0.94117647, 0.97058824, 0.97058824, 0.94117647]), 'Mean of test Accuracy scores': 0.9618487394957983, 'Standard deviation of test Accuracy scores': 0.026499783819416606}\n"
          ]
        }
      ]
    },
    {
      "cell_type": "code",
      "source": [
        "def cross_validation_1(model, _X, _y, _cv=10):\n",
        "  _scoring = ['accuracy']\n",
        "  results = cross_validate(estimator=model,\n",
        "                               X=_X,\n",
        "                               y=_y,\n",
        "                               cv=_cv,\n",
        "                               scoring=_scoring,\n",
        "                               return_train_score=True)\n",
        "  return results['test_accuracy'].mean()"
      ],
      "metadata": {
        "id": "NpFyr9viHH1W"
      },
      "id": "NpFyr9viHH1W",
      "execution_count": 19,
      "outputs": []
    },
    {
      "cell_type": "code",
      "source": [
        "def cross_validation_2(model, _X, _y, _cv=10):\n",
        "  _scoring = ['accuracy']\n",
        "  results = cross_validate(estimator=model,\n",
        "                               X=_X,\n",
        "                               y=_y,\n",
        "                               cv=_cv,\n",
        "                               scoring=_scoring,\n",
        "                               return_train_score=True)\n",
        "  return results['train_accuracy'].mean()"
      ],
      "metadata": {
        "id": "zrCs1_3PhpDN"
      },
      "id": "zrCs1_3PhpDN",
      "execution_count": 28,
      "outputs": []
    },
    {
      "cell_type": "markdown",
      "metadata": {
        "id": "bH-K6JAc3sco"
      },
      "source": [
        "So far we arbitrarily chose $m=2$ for the number of neurons in the hidden layer. The optimal number of hidden neurons $m_{opt}$ should be found empirically, by varying the value of $m$ and evaluating the performance. \n",
        "\n",
        "* II.6) Find $m_{opt}$ in the interval  $\\left[2, 10\\right]$ by performing 10-fold cross-validation for each value of $m$. What is the model performance with $m=m_{opt}$?"
      ],
      "id": "bH-K6JAc3sco"
    },
    {
      "cell_type": "code",
      "execution_count": 20,
      "metadata": {
        "id": "EyxIUGBv2yjd",
        "colab": {
          "base_uri": "https://localhost:8080/"
        },
        "outputId": "26d65815-95be-495f-d071-3238675410d8"
      },
      "outputs": [
        {
          "output_type": "stream",
          "name": "stdout",
          "text": [
            "when m is  2 the mean training acuracy score is 0.9471428571428572\n"
          ]
        },
        {
          "output_type": "stream",
          "name": "stderr",
          "text": [
            "/usr/local/lib/python3.7/dist-packages/sklearn/neural_network/_multilayer_perceptron.py:549: ConvergenceWarning: lbfgs failed to converge (status=1):\n",
            "STOP: TOTAL NO. of ITERATIONS REACHED LIMIT.\n",
            "\n",
            "Increase the number of iterations (max_iter) or scale the data as shown in:\n",
            "    https://scikit-learn.org/stable/modules/preprocessing.html\n",
            "  self.n_iter_ = _check_optimize_result(\"lbfgs\", opt_res, self.max_iter)\n"
          ]
        },
        {
          "output_type": "stream",
          "name": "stdout",
          "text": [
            "when m is  3 the mean training acuracy score is 0.9559663865546218\n"
          ]
        },
        {
          "output_type": "stream",
          "name": "stderr",
          "text": [
            "/usr/local/lib/python3.7/dist-packages/sklearn/neural_network/_multilayer_perceptron.py:549: ConvergenceWarning: lbfgs failed to converge (status=1):\n",
            "STOP: TOTAL NO. of ITERATIONS REACHED LIMIT.\n",
            "\n",
            "Increase the number of iterations (max_iter) or scale the data as shown in:\n",
            "    https://scikit-learn.org/stable/modules/preprocessing.html\n",
            "  self.n_iter_ = _check_optimize_result(\"lbfgs\", opt_res, self.max_iter)\n",
            "/usr/local/lib/python3.7/dist-packages/sklearn/neural_network/_multilayer_perceptron.py:549: ConvergenceWarning: lbfgs failed to converge (status=1):\n",
            "STOP: TOTAL NO. of ITERATIONS REACHED LIMIT.\n",
            "\n",
            "Increase the number of iterations (max_iter) or scale the data as shown in:\n",
            "    https://scikit-learn.org/stable/modules/preprocessing.html\n",
            "  self.n_iter_ = _check_optimize_result(\"lbfgs\", opt_res, self.max_iter)\n",
            "/usr/local/lib/python3.7/dist-packages/sklearn/neural_network/_multilayer_perceptron.py:549: ConvergenceWarning: lbfgs failed to converge (status=1):\n",
            "STOP: TOTAL NO. of ITERATIONS REACHED LIMIT.\n",
            "\n",
            "Increase the number of iterations (max_iter) or scale the data as shown in:\n",
            "    https://scikit-learn.org/stable/modules/preprocessing.html\n",
            "  self.n_iter_ = _check_optimize_result(\"lbfgs\", opt_res, self.max_iter)\n"
          ]
        },
        {
          "output_type": "stream",
          "name": "stdout",
          "text": [
            "when m is  4 the mean training acuracy score is 0.9589915966386554\n",
            "when m is  5 the mean training acuracy score is 0.9648739495798319\n",
            "when m is  6 the mean training acuracy score is 0.9500840336134454\n",
            "when m is  7 the mean training acuracy score is 0.9558823529411764\n",
            "when m is  8 the mean training acuracy score is 0.9529411764705882\n",
            "when m is  9 the mean training acuracy score is 0.9559663865546218\n",
            "when m is  10 the mean training acuracy score is 0.9559663865546218\n"
          ]
        }
      ],
      "source": [
        "#Write your code here\n",
        "Average_score = []\n",
        "for i in range(2,11):\n",
        "  mlpmodel = MLPClassifier(hidden_layer_sizes=(i, ), activation=\"logistic\", solver=\"lbfgs\", max_iter=500)\n",
        "  result_1 = cross_validation_1(mlpmodel,data_shuffle,target_shuffle)\n",
        "  print(\"when m is \",i,\"the mean training acuracy score is\",result_1)\n",
        "  Average_score.append(result_1)"
      ],
      "id": "EyxIUGBv2yjd"
    },
    {
      "cell_type": "code",
      "source": [
        "M_opt=np.argmax(Average_score)+2\n",
        "print(\"When m equals to\",M_opt,\",the performance is the best\")\n"
      ],
      "metadata": {
        "colab": {
          "base_uri": "https://localhost:8080/"
        },
        "id": "CMuR7f3EIZ_A",
        "outputId": "7c48572a-2267-4fb0-e6bc-42dbd2d9201e"
      },
      "id": "CMuR7f3EIZ_A",
      "execution_count": 21,
      "outputs": [
        {
          "output_type": "stream",
          "name": "stdout",
          "text": [
            "When m equals to 5 ,the performance is the best\n"
          ]
        }
      ]
    },
    {
      "cell_type": "markdown",
      "metadata": {
        "id": "enVDvEvQ-eii"
      },
      "source": [
        "Finally, we would like to measure the impact of the train set size on the model performance. \n",
        "* II.7) Compute the model performance with respect to the train set size for $n \\in \\left\\{10, 50,  100, 150, 200, 250, 300, 342\\right\\}$ (use 10-fold cross-validation with $m=m_{opt}$ and for each value of $n$). \n",
        "* II.8) Show the learning curve (you could use *matplotlib.pyplot.plot* to show the train and test performances in the same graph). Starting from which value of $n$ the model achieves its maximal potential ($Acc\\_test \\approx Acc\\_train$)?  "
      ],
      "id": "enVDvEvQ-eii"
    },
    {
      "cell_type": "markdown",
      "metadata": {
        "id": "kM79BwgJwOPy"
      },
      "source": [
        ""
      ],
      "id": "kM79BwgJwOPy"
    },
    {
      "cell_type": "code",
      "execution_count": 27,
      "metadata": {
        "id": "lXVA6WifC0-p",
        "colab": {
          "base_uri": "https://localhost:8080/"
        },
        "outputId": "0d965ec0-1510-4bac-f0eb-fcc1465fd99d"
      },
      "outputs": [
        {
          "output_type": "stream",
          "name": "stdout",
          "text": [
            "when n is  10 the mean training acuracy score is 0.9\n",
            "when n is  50 the mean training acuracy score is 0.9\n",
            "when n is  100 the mean training acuracy score is 0.96\n"
          ]
        },
        {
          "output_type": "stream",
          "name": "stderr",
          "text": [
            "/usr/local/lib/python3.7/dist-packages/sklearn/neural_network/_multilayer_perceptron.py:549: ConvergenceWarning: lbfgs failed to converge (status=1):\n",
            "STOP: TOTAL NO. of ITERATIONS REACHED LIMIT.\n",
            "\n",
            "Increase the number of iterations (max_iter) or scale the data as shown in:\n",
            "    https://scikit-learn.org/stable/modules/preprocessing.html\n",
            "  self.n_iter_ = _check_optimize_result(\"lbfgs\", opt_res, self.max_iter)\n",
            "/usr/local/lib/python3.7/dist-packages/sklearn/neural_network/_multilayer_perceptron.py:549: ConvergenceWarning: lbfgs failed to converge (status=1):\n",
            "STOP: TOTAL NO. of ITERATIONS REACHED LIMIT.\n",
            "\n",
            "Increase the number of iterations (max_iter) or scale the data as shown in:\n",
            "    https://scikit-learn.org/stable/modules/preprocessing.html\n",
            "  self.n_iter_ = _check_optimize_result(\"lbfgs\", opt_res, self.max_iter)\n"
          ]
        },
        {
          "output_type": "stream",
          "name": "stdout",
          "text": [
            "when n is  150 the mean training acuracy score is 0.9400000000000001\n",
            "when n is  200 the mean training acuracy score is 0.945\n"
          ]
        },
        {
          "output_type": "stream",
          "name": "stderr",
          "text": [
            "/usr/local/lib/python3.7/dist-packages/sklearn/neural_network/_multilayer_perceptron.py:549: ConvergenceWarning: lbfgs failed to converge (status=1):\n",
            "STOP: TOTAL NO. of ITERATIONS REACHED LIMIT.\n",
            "\n",
            "Increase the number of iterations (max_iter) or scale the data as shown in:\n",
            "    https://scikit-learn.org/stable/modules/preprocessing.html\n",
            "  self.n_iter_ = _check_optimize_result(\"lbfgs\", opt_res, self.max_iter)\n"
          ]
        },
        {
          "output_type": "stream",
          "name": "stdout",
          "text": [
            "when n is  250 the mean training acuracy score is 0.9359999999999999\n",
            "when n is  300 the mean training acuracy score is 0.9566666666666667\n"
          ]
        },
        {
          "output_type": "stream",
          "name": "stderr",
          "text": [
            "/usr/local/lib/python3.7/dist-packages/sklearn/neural_network/_multilayer_perceptron.py:549: ConvergenceWarning: lbfgs failed to converge (status=1):\n",
            "STOP: TOTAL NO. of ITERATIONS REACHED LIMIT.\n",
            "\n",
            "Increase the number of iterations (max_iter) or scale the data as shown in:\n",
            "    https://scikit-learn.org/stable/modules/preprocessing.html\n",
            "  self.n_iter_ = _check_optimize_result(\"lbfgs\", opt_res, self.max_iter)\n",
            "/usr/local/lib/python3.7/dist-packages/sklearn/neural_network/_multilayer_perceptron.py:549: ConvergenceWarning: lbfgs failed to converge (status=1):\n",
            "STOP: TOTAL NO. of ITERATIONS REACHED LIMIT.\n",
            "\n",
            "Increase the number of iterations (max_iter) or scale the data as shown in:\n",
            "    https://scikit-learn.org/stable/modules/preprocessing.html\n",
            "  self.n_iter_ = _check_optimize_result(\"lbfgs\", opt_res, self.max_iter)\n",
            "/usr/local/lib/python3.7/dist-packages/sklearn/neural_network/_multilayer_perceptron.py:549: ConvergenceWarning: lbfgs failed to converge (status=1):\n",
            "STOP: TOTAL NO. of ITERATIONS REACHED LIMIT.\n",
            "\n",
            "Increase the number of iterations (max_iter) or scale the data as shown in:\n",
            "    https://scikit-learn.org/stable/modules/preprocessing.html\n",
            "  self.n_iter_ = _check_optimize_result(\"lbfgs\", opt_res, self.max_iter)\n"
          ]
        },
        {
          "output_type": "stream",
          "name": "stdout",
          "text": [
            "when n is  342 the mean training acuracy score is 0.9647058823529411\n"
          ]
        }
      ],
      "source": [
        "#Write your code here\n",
        "#II.7\n",
        "n=[10,50,100,150,200,250,300]\n",
        "result_2=[]\n",
        "for i in n:\n",
        "  data_shuffle1, data_shuffle2, target_shuffle1, target_shuffle2 = train_test_split(data, target, train_size=i, shuffle=True, random_state=0)\n",
        "  mlpmodel = MLPClassifier(hidden_layer_sizes=(M_opt, ), activation=\"logistic\", solver=\"lbfgs\", max_iter=500)\n",
        "  mlpmodel.fit(data_shuffle1, target_shuffle1)\n",
        "  result_1 = cross_validation_1(mlpmodel,data_shuffle1,target_shuffle1)\n",
        "  print(\"when n is \",i,\"the mean training acuracy score is\",result_1)\n",
        "  result_2.append(result_1)\n",
        "\n",
        "mlpmodel = MLPClassifier(hidden_layer_sizes=(M_opt, ), activation=\"logistic\", solver=\"lbfgs\", max_iter=500)\n",
        "mlpmodel.fit(data_shuffle, target_shuffle)\n",
        "result_1 = cross_validation_1(mlpmodel,data_shuffle,target_shuffle)\n",
        "print(\"when n is \",342,\"the mean training acuracy score is\",result_1)\n",
        "result_2.append(result_1)\n",
        "#print(result_2)"
      ],
      "id": "lXVA6WifC0-p"
    },
    {
      "cell_type": "code",
      "source": [
        "import numpy as np\n",
        "from sklearn.preprocessing import StandardScaler, OneHotEncoder\n",
        "\n",
        "input_preprocessor = StandardScaler()\n",
        "target_preprocessor = OneHotEncoder(sparse=False)\n",
        "\n",
        "data = input_preprocessor.fit_transform(PenguinData[['Culmen Length (mm)', 'Culmen Depth (mm)']])\n",
        "target = target_preprocessor.fit_transform(PenguinData[['Species']])\n",
        "\n",
        "normdf = pandas.DataFrame(np.concatenate((PenguinData[['Culmen Length (mm)', 'Culmen Depth (mm)']], data), axis=1), columns=['Var1', 'Var2', 'Var1 norm', 'Var2 norm'])\n",
        "print(\"Normalized input data\")\n",
        "print(normdf[:10])\n",
        "print(\"Target output\")\n",
        "print(pandas.DataFrame(target, columns=['Adelie', 'Gentoo', 'Chinstrap']))"
      ],
      "metadata": {
        "colab": {
          "base_uri": "https://localhost:8080/"
        },
        "id": "SipoU5MOXuvE",
        "outputId": "4061f6ef-17c2-46a3-9eef-65fa6c3f5f6f"
      },
      "id": "SipoU5MOXuvE",
      "execution_count": 23,
      "outputs": [
        {
          "output_type": "stream",
          "name": "stdout",
          "text": [
            "Normalized input data\n",
            "   Var1  Var2  Var1 norm  Var2 norm\n",
            "0  39.1  18.7  -0.884499   0.785449\n",
            "1  39.5  17.4  -0.811126   0.126188\n",
            "2  40.3  18.0  -0.664380   0.430462\n",
            "3  36.7  19.3  -1.324737   1.089724\n",
            "4  39.3  20.6  -0.847812   1.748985\n",
            "5  38.9  17.8  -0.921185   0.329038\n",
            "6  39.2  19.6  -0.866155   1.241861\n",
            "7  34.1  18.1  -1.801661   0.481175\n",
            "8  42.0  20.2  -0.352544   1.546135\n",
            "9  37.8  17.1  -1.122961  -0.025949\n",
            "Target output\n",
            "     Adelie  Gentoo  Chinstrap\n",
            "0       1.0     0.0        0.0\n",
            "1       1.0     0.0        0.0\n",
            "2       1.0     0.0        0.0\n",
            "3       1.0     0.0        0.0\n",
            "4       1.0     0.0        0.0\n",
            "..      ...     ...        ...\n",
            "337     0.0     1.0        0.0\n",
            "338     0.0     1.0        0.0\n",
            "339     0.0     1.0        0.0\n",
            "340     0.0     1.0        0.0\n",
            "341     0.0     1.0        0.0\n",
            "\n",
            "[342 rows x 3 columns]\n"
          ]
        }
      ]
    },
    {
      "cell_type": "code",
      "source": [
        "from sklearn.neural_network import MLPClassifier\n",
        "from sklearn import set_config\n",
        "mlpmodel = MLPClassifier(hidden_layer_sizes=(M_opt, ), activation=\"logistic\", solver=\"lbfgs\", max_iter=500)\n",
        "set_config(display='diagram')\n",
        "mlpmodel"
      ],
      "metadata": {
        "colab": {
          "base_uri": "https://localhost:8080/",
          "height": 92
        },
        "id": "D0dmKjRNXwWK",
        "outputId": "e8c51abb-e1db-4404-b1c3-358ec53b059c"
      },
      "id": "D0dmKjRNXwWK",
      "execution_count": 24,
      "outputs": [
        {
          "output_type": "execute_result",
          "data": {
            "text/plain": [
              "MLPClassifier(activation='logistic', hidden_layer_sizes=(5,), max_iter=500,\n",
              "              solver='lbfgs')"
            ],
            "text/html": [
              "<style>#sk-5266d560-fad9-440a-9cca-5c91a5e354f2 {color: black;background-color: white;}#sk-5266d560-fad9-440a-9cca-5c91a5e354f2 pre{padding: 0;}#sk-5266d560-fad9-440a-9cca-5c91a5e354f2 div.sk-toggleable {background-color: white;}#sk-5266d560-fad9-440a-9cca-5c91a5e354f2 label.sk-toggleable__label {cursor: pointer;display: block;width: 100%;margin-bottom: 0;padding: 0.3em;box-sizing: border-box;text-align: center;}#sk-5266d560-fad9-440a-9cca-5c91a5e354f2 label.sk-toggleable__label-arrow:before {content: \"▸\";float: left;margin-right: 0.25em;color: #696969;}#sk-5266d560-fad9-440a-9cca-5c91a5e354f2 label.sk-toggleable__label-arrow:hover:before {color: black;}#sk-5266d560-fad9-440a-9cca-5c91a5e354f2 div.sk-estimator:hover label.sk-toggleable__label-arrow:before {color: black;}#sk-5266d560-fad9-440a-9cca-5c91a5e354f2 div.sk-toggleable__content {max-height: 0;max-width: 0;overflow: hidden;text-align: left;background-color: #f0f8ff;}#sk-5266d560-fad9-440a-9cca-5c91a5e354f2 div.sk-toggleable__content pre {margin: 0.2em;color: black;border-radius: 0.25em;background-color: #f0f8ff;}#sk-5266d560-fad9-440a-9cca-5c91a5e354f2 input.sk-toggleable__control:checked~div.sk-toggleable__content {max-height: 200px;max-width: 100%;overflow: auto;}#sk-5266d560-fad9-440a-9cca-5c91a5e354f2 input.sk-toggleable__control:checked~label.sk-toggleable__label-arrow:before {content: \"▾\";}#sk-5266d560-fad9-440a-9cca-5c91a5e354f2 div.sk-estimator input.sk-toggleable__control:checked~label.sk-toggleable__label {background-color: #d4ebff;}#sk-5266d560-fad9-440a-9cca-5c91a5e354f2 div.sk-label input.sk-toggleable__control:checked~label.sk-toggleable__label {background-color: #d4ebff;}#sk-5266d560-fad9-440a-9cca-5c91a5e354f2 input.sk-hidden--visually {border: 0;clip: rect(1px 1px 1px 1px);clip: rect(1px, 1px, 1px, 1px);height: 1px;margin: -1px;overflow: hidden;padding: 0;position: absolute;width: 1px;}#sk-5266d560-fad9-440a-9cca-5c91a5e354f2 div.sk-estimator {font-family: monospace;background-color: #f0f8ff;border: 1px dotted black;border-radius: 0.25em;box-sizing: border-box;margin-bottom: 0.5em;}#sk-5266d560-fad9-440a-9cca-5c91a5e354f2 div.sk-estimator:hover {background-color: #d4ebff;}#sk-5266d560-fad9-440a-9cca-5c91a5e354f2 div.sk-parallel-item::after {content: \"\";width: 100%;border-bottom: 1px solid gray;flex-grow: 1;}#sk-5266d560-fad9-440a-9cca-5c91a5e354f2 div.sk-label:hover label.sk-toggleable__label {background-color: #d4ebff;}#sk-5266d560-fad9-440a-9cca-5c91a5e354f2 div.sk-serial::before {content: \"\";position: absolute;border-left: 1px solid gray;box-sizing: border-box;top: 2em;bottom: 0;left: 50%;}#sk-5266d560-fad9-440a-9cca-5c91a5e354f2 div.sk-serial {display: flex;flex-direction: column;align-items: center;background-color: white;padding-right: 0.2em;padding-left: 0.2em;}#sk-5266d560-fad9-440a-9cca-5c91a5e354f2 div.sk-item {z-index: 1;}#sk-5266d560-fad9-440a-9cca-5c91a5e354f2 div.sk-parallel {display: flex;align-items: stretch;justify-content: center;background-color: white;}#sk-5266d560-fad9-440a-9cca-5c91a5e354f2 div.sk-parallel::before {content: \"\";position: absolute;border-left: 1px solid gray;box-sizing: border-box;top: 2em;bottom: 0;left: 50%;}#sk-5266d560-fad9-440a-9cca-5c91a5e354f2 div.sk-parallel-item {display: flex;flex-direction: column;position: relative;background-color: white;}#sk-5266d560-fad9-440a-9cca-5c91a5e354f2 div.sk-parallel-item:first-child::after {align-self: flex-end;width: 50%;}#sk-5266d560-fad9-440a-9cca-5c91a5e354f2 div.sk-parallel-item:last-child::after {align-self: flex-start;width: 50%;}#sk-5266d560-fad9-440a-9cca-5c91a5e354f2 div.sk-parallel-item:only-child::after {width: 0;}#sk-5266d560-fad9-440a-9cca-5c91a5e354f2 div.sk-dashed-wrapped {border: 1px dashed gray;margin: 0 0.4em 0.5em 0.4em;box-sizing: border-box;padding-bottom: 0.4em;background-color: white;position: relative;}#sk-5266d560-fad9-440a-9cca-5c91a5e354f2 div.sk-label label {font-family: monospace;font-weight: bold;background-color: white;display: inline-block;line-height: 1.2em;}#sk-5266d560-fad9-440a-9cca-5c91a5e354f2 div.sk-label-container {position: relative;z-index: 2;text-align: center;}#sk-5266d560-fad9-440a-9cca-5c91a5e354f2 div.sk-container {/* jupyter's `normalize.less` sets `[hidden] { display: none; }` but bootstrap.min.css set `[hidden] { display: none !important; }` so we also need the `!important` here to be able to override the default hidden behavior on the sphinx rendered scikit-learn.org. See: https://github.com/scikit-learn/scikit-learn/issues/21755 */display: inline-block !important;position: relative;}#sk-5266d560-fad9-440a-9cca-5c91a5e354f2 div.sk-text-repr-fallback {display: none;}</style><div id=\"sk-5266d560-fad9-440a-9cca-5c91a5e354f2\" class=\"sk-top-container\"><div class=\"sk-text-repr-fallback\"><pre>MLPClassifier(activation=&#x27;logistic&#x27;, hidden_layer_sizes=(5,), max_iter=500,\n",
              "              solver=&#x27;lbfgs&#x27;)</pre><b>Please rerun this cell to show the HTML repr or trust the notebook.</b></div><div class=\"sk-container\" hidden><div class=\"sk-item\"><div class=\"sk-estimator sk-toggleable\"><input class=\"sk-toggleable__control sk-hidden--visually\" id=\"00a773e7-8149-463b-9aea-6f28de17f5fb\" type=\"checkbox\" checked><label for=\"00a773e7-8149-463b-9aea-6f28de17f5fb\" class=\"sk-toggleable__label sk-toggleable__label-arrow\">MLPClassifier</label><div class=\"sk-toggleable__content\"><pre>MLPClassifier(activation=&#x27;logistic&#x27;, hidden_layer_sizes=(5,), max_iter=500,\n",
              "              solver=&#x27;lbfgs&#x27;)</pre></div></div></div></div></div>"
            ]
          },
          "metadata": {},
          "execution_count": 24
        }
      ]
    },
    {
      "cell_type": "code",
      "source": [
        "from sklearn.metrics import accuracy_score\n",
        "scores_train=[]\n",
        "scores_test=[]\n",
        "for i in range(10,342) :\n",
        "  X_train, X_test, y_train, y_test = train_test_split(data, target, train_size=i, shuffle=True, random_state=0)\n",
        "  mlpmodel.fit(X_train, y_train)\n",
        "  result_1 = cross_validation_1(mlpmodel,X_train,y_train) #test\n",
        "  scores_test.append(result_1)\n",
        "  result_2 = cross_validation_2(mlpmodel,X_train,y_train) #train\n",
        "  scores_train.append(result_2)\n",
        "\n",
        "\n",
        "\n",
        "  '''\n",
        "  pred_tr = mlpmodel.predict(X_train)\n",
        "  pred_test = mlpmodel.predict(X_test)\n",
        "  scores_train.append(accuracy_score(pred_tr, y_train))\n",
        "  scores_test.append(accuracy_score(pred_test, y_test))\n",
        "  '''\n",
        "\n",
        "\n",
        "#print(scores_train)\n",
        "#print(scores_test)\n",
        "\n"
      ],
      "metadata": {
        "id": "4O-EGxtMX7Nu"
      },
      "id": "4O-EGxtMX7Nu",
      "execution_count": null,
      "outputs": []
    },
    {
      "cell_type": "code",
      "source": [
        "#II.8 plot learning curve\n",
        "import keras\n",
        "from matplotlib import pyplot as plt\n",
        "plt.plot(scores_train, alpha=0.8, label='Train')\n",
        "plt.plot(scores_test,  alpha=0.8, label='Test')\n",
        "plt.title(\"Accuracy over training size\", fontsize=14)\n",
        "plt.xlabel('Training Size')\n",
        "plt.legend(loc='upper left')\n",
        "plt.show()"
      ],
      "metadata": {
        "colab": {
          "base_uri": "https://localhost:8080/",
          "height": 296
        },
        "id": "U_KmCKZ0Gd6f",
        "outputId": "1d146817-5ee1-4049-d4ab-b05328f6c799"
      },
      "id": "U_KmCKZ0Gd6f",
      "execution_count": 31,
      "outputs": [
        {
          "output_type": "display_data",
          "data": {
            "text/plain": [
              "<Figure size 432x288 with 1 Axes>"
            ],
            "image/png": "[encoded data removed]"
          },
          "metadata": {
            "needs_background": "light"
          }
        }
      ]
    },
    {
      "cell_type": "code",
      "source": [
        "#print(scores_train)\n",
        "#print(scores_test)\n",
        "scores_train=np.array(scores_train)\n",
        "scores_test=np.array(scores_test)\n",
        "abs=scores_train-scores_test\n",
        "min=np.argmin(abs)\n",
        "print(\"when n = \",min+1,\"the model achieves its maximal potential,where Acc_train ≈ Acc_test.\")\n"
      ],
      "metadata": {
        "colab": {
          "base_uri": "https://localhost:8080/"
        },
        "id": "V98FQkFXnzGP",
        "outputId": "7768c180-791f-4712-ea9b-87f0ae887e81"
      },
      "id": "V98FQkFXnzGP",
      "execution_count": 32,
      "outputs": [
        {
          "output_type": "stream",
          "name": "stdout",
          "text": [
            "when n =  327 the model achieves its maximal potential,where Acc_train ≈ Acc_test.\n"
          ]
        }
      ]
    }
  ],
  "metadata": {
    "accelerator": "GPU",
    "colab": {
      "collapsed_sections": [],
      "name": "TSP_LabSession3_Classification[31].ipynb",
      "provenance": []
    },
    "jupytext": {
      "main_language": "python"
    },
    "kernelspec": {
      "display_name": "Python 3",
      "name": "python3"
    },
    "language_info": {
      "name": "python"
    },
    "nbreset": "https://raw.githubusercontent.com/INRIA/scikit-learn-mooc/main/notebooks/01_tabular_data_exploration_ex_01.ipynb"
  },
  "nbformat": 4,
  "nbformat_minor": 5
}